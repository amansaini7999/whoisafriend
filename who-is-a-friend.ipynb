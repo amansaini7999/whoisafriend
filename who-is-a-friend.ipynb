{
 "cells": [
  {
   "cell_type": "markdown",
   "metadata": {},
   "source": [
    "# Importing Libraries"
   ]
  },
  {
   "cell_type": "code",
   "execution_count": 1,
   "metadata": {
    "scrolled": true
   },
   "outputs": [
    {
     "name": "stderr",
     "output_type": "stream",
     "text": [
      "/home/aman/anaconda3/lib/python3.7/site-packages/statsmodels/tools/_testing.py:19: FutureWarning: pandas.util.testing is deprecated. Use the functions in the public API at pandas.testing instead.\n",
      "  import pandas.util.testing as tm\n"
     ]
    }
   ],
   "source": [
    "import pandas as pd\n",
    "import numpy as np\n",
    "import seaborn as sns\n",
    "from sklearn.preprocessing import LabelEncoder\n",
    "from sklearn.preprocessing import StandardScaler\n",
    "from sklearn.model_selection import train_test_split\n",
    "from sklearn.metrics import classification_report, confusion_matrix\n",
    "\n",
    "import warnings\n",
    "warnings.simplefilter('ignore')"
   ]
  },
  {
   "cell_type": "markdown",
   "metadata": {},
   "source": [
    "# Data Loading and Preprocessing"
   ]
  },
  {
   "cell_type": "code",
   "execution_count": 43,
   "metadata": {},
   "outputs": [],
   "source": [
    "traindf = pd.read_csv(\"train.csv\")\n",
    "testdf = pd.read_csv(\"test.csv\")\n",
    "subdf = pd.read_csv(\"sample_submission.csv\")"
   ]
  },
  {
   "cell_type": "code",
   "execution_count": 25,
   "metadata": {},
   "outputs": [
    {
     "data": {
      "text/html": [
       "<div>\n",
       "<style scoped>\n",
       "    .dataframe tbody tr th:only-of-type {\n",
       "        vertical-align: middle;\n",
       "    }\n",
       "\n",
       "    .dataframe tbody tr th {\n",
       "        vertical-align: top;\n",
       "    }\n",
       "\n",
       "    .dataframe thead th {\n",
       "        text-align: right;\n",
       "    }\n",
       "</style>\n",
       "<table border=\"1\" class=\"dataframe\">\n",
       "  <thead>\n",
       "    <tr style=\"text-align: right;\">\n",
       "      <th></th>\n",
       "      <th>ID</th>\n",
       "      <th>Person A</th>\n",
       "      <th>Person B</th>\n",
       "      <th>Years of Knowing</th>\n",
       "      <th>Interaction Duration</th>\n",
       "      <th>Interaction Type</th>\n",
       "      <th>Moon Phase During Interaction</th>\n",
       "      <th>Friends</th>\n",
       "    </tr>\n",
       "  </thead>\n",
       "  <tbody>\n",
       "    <tr>\n",
       "      <th>0</th>\n",
       "      <td>1</td>\n",
       "      <td>Alika</td>\n",
       "      <td>Alfie</td>\n",
       "      <td>3.876560</td>\n",
       "      <td>13.035115</td>\n",
       "      <td>Class</td>\n",
       "      <td>Waning_Gibbous</td>\n",
       "      <td>1</td>\n",
       "    </tr>\n",
       "    <tr>\n",
       "      <th>1</th>\n",
       "      <td>2</td>\n",
       "      <td>Pennie</td>\n",
       "      <td>Lolita</td>\n",
       "      <td>2.836218</td>\n",
       "      <td>5.811429</td>\n",
       "      <td>At Work</td>\n",
       "      <td>Waxing_Cresent</td>\n",
       "      <td>0</td>\n",
       "    </tr>\n",
       "    <tr>\n",
       "      <th>2</th>\n",
       "      <td>3</td>\n",
       "      <td>Crissy</td>\n",
       "      <td>Carree</td>\n",
       "      <td>3.006119</td>\n",
       "      <td>4.882863</td>\n",
       "      <td>Over a Meal</td>\n",
       "      <td>New_Moon</td>\n",
       "      <td>0</td>\n",
       "    </tr>\n",
       "    <tr>\n",
       "      <th>3</th>\n",
       "      <td>4</td>\n",
       "      <td>Eyde</td>\n",
       "      <td>Karleen</td>\n",
       "      <td>2.960067</td>\n",
       "      <td>9.274924</td>\n",
       "      <td>Social_Media</td>\n",
       "      <td>Waxing_Gibbous</td>\n",
       "      <td>0</td>\n",
       "    </tr>\n",
       "    <tr>\n",
       "      <th>4</th>\n",
       "      <td>5</td>\n",
       "      <td>Chrysa</td>\n",
       "      <td>Ludovika</td>\n",
       "      <td>7.640688</td>\n",
       "      <td>8.843167</td>\n",
       "      <td>Class</td>\n",
       "      <td>First_Quarter</td>\n",
       "      <td>1</td>\n",
       "    </tr>\n",
       "  </tbody>\n",
       "</table>\n",
       "</div>"
      ],
      "text/plain": [
       "   ID Person A  Person B  Years of Knowing  Interaction Duration  \\\n",
       "0   1    Alika     Alfie          3.876560             13.035115   \n",
       "1   2   Pennie    Lolita          2.836218              5.811429   \n",
       "2   3   Crissy    Carree          3.006119              4.882863   \n",
       "3   4     Eyde   Karleen          2.960067              9.274924   \n",
       "4   5   Chrysa  Ludovika          7.640688              8.843167   \n",
       "\n",
       "  Interaction Type Moon Phase During Interaction  Friends  \n",
       "0            Class                Waning_Gibbous        1  \n",
       "1          At Work                Waxing_Cresent        0  \n",
       "2      Over a Meal                      New_Moon        0  \n",
       "3     Social_Media                Waxing_Gibbous        0  \n",
       "4            Class                 First_Quarter        1  "
      ]
     },
     "execution_count": 25,
     "metadata": {},
     "output_type": "execute_result"
    }
   ],
   "source": [
    "traindf.head()"
   ]
  },
  {
   "cell_type": "code",
   "execution_count": 26,
   "metadata": {},
   "outputs": [
    {
     "data": {
      "text/html": [
       "<div>\n",
       "<style scoped>\n",
       "    .dataframe tbody tr th:only-of-type {\n",
       "        vertical-align: middle;\n",
       "    }\n",
       "\n",
       "    .dataframe tbody tr th {\n",
       "        vertical-align: top;\n",
       "    }\n",
       "\n",
       "    .dataframe thead th {\n",
       "        text-align: right;\n",
       "    }\n",
       "</style>\n",
       "<table border=\"1\" class=\"dataframe\">\n",
       "  <thead>\n",
       "    <tr style=\"text-align: right;\">\n",
       "      <th></th>\n",
       "      <th>ID</th>\n",
       "      <th>Person A</th>\n",
       "      <th>Person B</th>\n",
       "      <th>Years of Knowing</th>\n",
       "      <th>Interaction Duration</th>\n",
       "      <th>Interaction Type</th>\n",
       "      <th>Moon Phase During Interaction</th>\n",
       "    </tr>\n",
       "  </thead>\n",
       "  <tbody>\n",
       "    <tr>\n",
       "      <th>0</th>\n",
       "      <td>1</td>\n",
       "      <td>Janaya</td>\n",
       "      <td>Nicolina</td>\n",
       "      <td>5.662542</td>\n",
       "      <td>14.863449</td>\n",
       "      <td>Social_Media</td>\n",
       "      <td>New_Moon</td>\n",
       "    </tr>\n",
       "    <tr>\n",
       "      <th>1</th>\n",
       "      <td>2</td>\n",
       "      <td>Nina</td>\n",
       "      <td>Rachelle</td>\n",
       "      <td>2.685942</td>\n",
       "      <td>3.002966</td>\n",
       "      <td>Class</td>\n",
       "      <td>Waxing_Cresent</td>\n",
       "    </tr>\n",
       "    <tr>\n",
       "      <th>2</th>\n",
       "      <td>3</td>\n",
       "      <td>Deborah</td>\n",
       "      <td>Veda</td>\n",
       "      <td>4.702476</td>\n",
       "      <td>13.453554</td>\n",
       "      <td>Social_Media</td>\n",
       "      <td>Waxing_Gibbous</td>\n",
       "    </tr>\n",
       "    <tr>\n",
       "      <th>3</th>\n",
       "      <td>4</td>\n",
       "      <td>Susanetta</td>\n",
       "      <td>Annalise</td>\n",
       "      <td>1.727021</td>\n",
       "      <td>3.780898</td>\n",
       "      <td>Class</td>\n",
       "      <td>First_Quarter</td>\n",
       "    </tr>\n",
       "    <tr>\n",
       "      <th>4</th>\n",
       "      <td>5</td>\n",
       "      <td>Janeczka</td>\n",
       "      <td>Bobbe</td>\n",
       "      <td>5.539269</td>\n",
       "      <td>10.626012</td>\n",
       "      <td>At Work</td>\n",
       "      <td>New_Moon</td>\n",
       "    </tr>\n",
       "  </tbody>\n",
       "</table>\n",
       "</div>"
      ],
      "text/plain": [
       "   ID   Person A  Person B  Years of Knowing  Interaction Duration  \\\n",
       "0   1     Janaya  Nicolina          5.662542             14.863449   \n",
       "1   2       Nina  Rachelle          2.685942              3.002966   \n",
       "2   3    Deborah      Veda          4.702476             13.453554   \n",
       "3   4  Susanetta  Annalise          1.727021              3.780898   \n",
       "4   5   Janeczka     Bobbe          5.539269             10.626012   \n",
       "\n",
       "  Interaction Type Moon Phase During Interaction  \n",
       "0     Social_Media                      New_Moon  \n",
       "1            Class                Waxing_Cresent  \n",
       "2     Social_Media                Waxing_Gibbous  \n",
       "3            Class                 First_Quarter  \n",
       "4          At Work                      New_Moon  "
      ]
     },
     "execution_count": 26,
     "metadata": {},
     "output_type": "execute_result"
    }
   ],
   "source": [
    "testdf.head()"
   ]
  },
  {
   "cell_type": "code",
   "execution_count": 27,
   "metadata": {},
   "outputs": [
    {
     "data": {
      "text/html": [
       "<div>\n",
       "<style scoped>\n",
       "    .dataframe tbody tr th:only-of-type {\n",
       "        vertical-align: middle;\n",
       "    }\n",
       "\n",
       "    .dataframe tbody tr th {\n",
       "        vertical-align: top;\n",
       "    }\n",
       "\n",
       "    .dataframe thead th {\n",
       "        text-align: right;\n",
       "    }\n",
       "</style>\n",
       "<table border=\"1\" class=\"dataframe\">\n",
       "  <thead>\n",
       "    <tr style=\"text-align: right;\">\n",
       "      <th></th>\n",
       "      <th>ID</th>\n",
       "      <th>Friends</th>\n",
       "    </tr>\n",
       "  </thead>\n",
       "  <tbody>\n",
       "    <tr>\n",
       "      <th>0</th>\n",
       "      <td>1</td>\n",
       "      <td>0</td>\n",
       "    </tr>\n",
       "    <tr>\n",
       "      <th>1</th>\n",
       "      <td>2</td>\n",
       "      <td>0</td>\n",
       "    </tr>\n",
       "    <tr>\n",
       "      <th>2</th>\n",
       "      <td>3</td>\n",
       "      <td>0</td>\n",
       "    </tr>\n",
       "    <tr>\n",
       "      <th>3</th>\n",
       "      <td>4</td>\n",
       "      <td>0</td>\n",
       "    </tr>\n",
       "    <tr>\n",
       "      <th>4</th>\n",
       "      <td>5</td>\n",
       "      <td>0</td>\n",
       "    </tr>\n",
       "  </tbody>\n",
       "</table>\n",
       "</div>"
      ],
      "text/plain": [
       "   ID  Friends\n",
       "0   1        0\n",
       "1   2        0\n",
       "2   3        0\n",
       "3   4        0\n",
       "4   5        0"
      ]
     },
     "execution_count": 27,
     "metadata": {},
     "output_type": "execute_result"
    }
   ],
   "source": [
    "subdf.head()"
   ]
  },
  {
   "cell_type": "code",
   "execution_count": 28,
   "metadata": {},
   "outputs": [
    {
     "data": {
      "text/plain": [
       "ID                               0\n",
       "Person A                         0\n",
       "Person B                         0\n",
       "Years of Knowing                 0\n",
       "Interaction Duration             0\n",
       "Interaction Type                 0\n",
       "Moon Phase During Interaction    0\n",
       "Friends                          0\n",
       "dtype: int64"
      ]
     },
     "execution_count": 28,
     "metadata": {},
     "output_type": "execute_result"
    }
   ],
   "source": [
    "traindf.isna().sum()"
   ]
  },
  {
   "cell_type": "code",
   "execution_count": 29,
   "metadata": {},
   "outputs": [
    {
     "data": {
      "text/plain": [
       "ID                               0\n",
       "Person A                         0\n",
       "Person B                         0\n",
       "Years of Knowing                 0\n",
       "Interaction Duration             0\n",
       "Interaction Type                 0\n",
       "Moon Phase During Interaction    0\n",
       "Friends                          0\n",
       "dtype: int64"
      ]
     },
     "execution_count": 29,
     "metadata": {},
     "output_type": "execute_result"
    }
   ],
   "source": [
    "traindf.isna().sum()"
   ]
  },
  {
   "cell_type": "code",
   "execution_count": 30,
   "metadata": {},
   "outputs": [
    {
     "data": {
      "text/plain": [
       "(array([0, 1]), array([28125, 26572]))"
      ]
     },
     "execution_count": 30,
     "metadata": {},
     "output_type": "execute_result"
    }
   ],
   "source": [
    "np.unique(np.array(traindf[\"Friends\"]), return_counts=True)"
   ]
  },
  {
   "cell_type": "markdown",
   "metadata": {},
   "source": [
    "Heat Map"
   ]
  },
  {
   "cell_type": "code",
   "execution_count": 31,
   "metadata": {
    "scrolled": false
   },
   "outputs": [
    {
     "data": {
      "text/plain": [
       "<matplotlib.axes._subplots.AxesSubplot at 0x7f4480e027f0>"
      ]
     },
     "execution_count": 31,
     "metadata": {},
     "output_type": "execute_result"
    },
    {
     "data": {
      "image/png": "[encoded data removed]",
      "text/plain": [
       "<Figure size 432x288 with 2 Axes>"
      ]
     },
     "metadata": {
      "needs_background": "light"
     },
     "output_type": "display_data"
    }
   ],
   "source": [
    "sns.heatmap(traindf.corr(),center=0, cmap='coolwarm', annot=True)"
   ]
  },
  {
   "cell_type": "code",
   "execution_count": 32,
   "metadata": {},
   "outputs": [
    {
     "data": {
      "text/plain": [
       "array(['Class', 'At Work', 'Over a Meal', 'Social_Media', 'Party',\n",
       "       'In Passing'], dtype=object)"
      ]
     },
     "execution_count": 32,
     "metadata": {},
     "output_type": "execute_result"
    }
   ],
   "source": [
    "traindf[\"Interaction Type\"].unique()"
   ]
  },
  {
   "cell_type": "code",
   "execution_count": 33,
   "metadata": {},
   "outputs": [
    {
     "data": {
      "text/plain": [
       "array(['Waning_Gibbous', 'Waxing_Cresent', 'New_Moon', 'Waxing_Gibbous',\n",
       "       'First_Quarter', 'Third_Quarter', 'Full_Moon', 'Waning_Cresent'],\n",
       "      dtype=object)"
      ]
     },
     "execution_count": 33,
     "metadata": {},
     "output_type": "execute_result"
    }
   ],
   "source": [
    "traindf[\"Moon Phase During Interaction\"].unique()"
   ]
  },
  {
   "cell_type": "code",
   "execution_count": 34,
   "metadata": {},
   "outputs": [],
   "source": [
    "def process(df):\n",
    "    x = df[\"Years of Knowing\"].values\n",
    "    x = x.reshape(-1, 1)\n",
    "    x = StandardScaler().fit_transform(x)\n",
    "    df[\"Years of Knowing\"] = x\n",
    "\n",
    "    x = traindf[\"Interaction Duration\"].values\n",
    "    x = x.reshape(-1, 1)\n",
    "    x = StandardScaler().fit_transform(x)\n",
    "    df[\"Interaction Duration\"] = x\n",
    "    \n",
    "    df1 = pd.get_dummies(df[\"Interaction Type\"], drop_first=True)\n",
    "    df2 = pd.get_dummies(df[\"Moon Phase During Interaction\"], drop_first=True)\n",
    "    df3 = pd.concat([df1, df2], axis=1)\n",
    "    \n",
    "    df = pd.concat([df, df3], axis=1)\n",
    "    df = df.drop([\"Interaction Type\", \"Moon Phase During Interaction\"], axis=1)\n",
    "\n",
    "    return df"
   ]
  },
  {
   "cell_type": "code",
   "execution_count": 45,
   "metadata": {},
   "outputs": [
    {
     "data": {
      "text/html": [
       "<div>\n",
       "<style scoped>\n",
       "    .dataframe tbody tr th:only-of-type {\n",
       "        vertical-align: middle;\n",
       "    }\n",
       "\n",
       "    .dataframe tbody tr th {\n",
       "        vertical-align: top;\n",
       "    }\n",
       "\n",
       "    .dataframe thead th {\n",
       "        text-align: right;\n",
       "    }\n",
       "</style>\n",
       "<table border=\"1\" class=\"dataframe\">\n",
       "  <thead>\n",
       "    <tr style=\"text-align: right;\">\n",
       "      <th></th>\n",
       "      <th>ID</th>\n",
       "      <th>Person A</th>\n",
       "      <th>Person B</th>\n",
       "      <th>Years of Knowing</th>\n",
       "      <th>Interaction Duration</th>\n",
       "      <th>Friends</th>\n",
       "      <th>Class</th>\n",
       "      <th>In Passing</th>\n",
       "      <th>Over a Meal</th>\n",
       "      <th>Party</th>\n",
       "      <th>Social_Media</th>\n",
       "      <th>Full_Moon</th>\n",
       "      <th>New_Moon</th>\n",
       "      <th>Third_Quarter</th>\n",
       "      <th>Waning_Cresent</th>\n",
       "      <th>Waning_Gibbous</th>\n",
       "      <th>Waxing_Cresent</th>\n",
       "      <th>Waxing_Gibbous</th>\n",
       "    </tr>\n",
       "  </thead>\n",
       "  <tbody>\n",
       "    <tr>\n",
       "      <th>0</th>\n",
       "      <td>1</td>\n",
       "      <td>Alika</td>\n",
       "      <td>Alfie</td>\n",
       "      <td>-0.229589</td>\n",
       "      <td>0.382877</td>\n",
       "      <td>1</td>\n",
       "      <td>1</td>\n",
       "      <td>0</td>\n",
       "      <td>0</td>\n",
       "      <td>0</td>\n",
       "      <td>0</td>\n",
       "      <td>0</td>\n",
       "      <td>0</td>\n",
       "      <td>0</td>\n",
       "      <td>0</td>\n",
       "      <td>1</td>\n",
       "      <td>0</td>\n",
       "      <td>0</td>\n",
       "    </tr>\n",
       "    <tr>\n",
       "      <th>1</th>\n",
       "      <td>2</td>\n",
       "      <td>Pennie</td>\n",
       "      <td>Lolita</td>\n",
       "      <td>-0.538188</td>\n",
       "      <td>-0.647173</td>\n",
       "      <td>0</td>\n",
       "      <td>0</td>\n",
       "      <td>0</td>\n",
       "      <td>0</td>\n",
       "      <td>0</td>\n",
       "      <td>0</td>\n",
       "      <td>0</td>\n",
       "      <td>0</td>\n",
       "      <td>0</td>\n",
       "      <td>0</td>\n",
       "      <td>0</td>\n",
       "      <td>1</td>\n",
       "      <td>0</td>\n",
       "    </tr>\n",
       "    <tr>\n",
       "      <th>2</th>\n",
       "      <td>3</td>\n",
       "      <td>Crissy</td>\n",
       "      <td>Carree</td>\n",
       "      <td>-0.487790</td>\n",
       "      <td>-0.779580</td>\n",
       "      <td>0</td>\n",
       "      <td>0</td>\n",
       "      <td>0</td>\n",
       "      <td>1</td>\n",
       "      <td>0</td>\n",
       "      <td>0</td>\n",
       "      <td>0</td>\n",
       "      <td>1</td>\n",
       "      <td>0</td>\n",
       "      <td>0</td>\n",
       "      <td>0</td>\n",
       "      <td>0</td>\n",
       "      <td>0</td>\n",
       "    </tr>\n",
       "    <tr>\n",
       "      <th>3</th>\n",
       "      <td>4</td>\n",
       "      <td>Eyde</td>\n",
       "      <td>Karleen</td>\n",
       "      <td>-0.501450</td>\n",
       "      <td>-0.153301</td>\n",
       "      <td>0</td>\n",
       "      <td>0</td>\n",
       "      <td>0</td>\n",
       "      <td>0</td>\n",
       "      <td>0</td>\n",
       "      <td>1</td>\n",
       "      <td>0</td>\n",
       "      <td>0</td>\n",
       "      <td>0</td>\n",
       "      <td>0</td>\n",
       "      <td>0</td>\n",
       "      <td>0</td>\n",
       "      <td>1</td>\n",
       "    </tr>\n",
       "    <tr>\n",
       "      <th>4</th>\n",
       "      <td>5</td>\n",
       "      <td>Chrysa</td>\n",
       "      <td>Ludovika</td>\n",
       "      <td>0.886972</td>\n",
       "      <td>-0.214867</td>\n",
       "      <td>1</td>\n",
       "      <td>1</td>\n",
       "      <td>0</td>\n",
       "      <td>0</td>\n",
       "      <td>0</td>\n",
       "      <td>0</td>\n",
       "      <td>0</td>\n",
       "      <td>0</td>\n",
       "      <td>0</td>\n",
       "      <td>0</td>\n",
       "      <td>0</td>\n",
       "      <td>0</td>\n",
       "      <td>0</td>\n",
       "    </tr>\n",
       "  </tbody>\n",
       "</table>\n",
       "</div>"
      ],
      "text/plain": [
       "   ID Person A  Person B  Years of Knowing  Interaction Duration  Friends  \\\n",
       "0   1    Alika     Alfie         -0.229589              0.382877        1   \n",
       "1   2   Pennie    Lolita         -0.538188             -0.647173        0   \n",
       "2   3   Crissy    Carree         -0.487790             -0.779580        0   \n",
       "3   4     Eyde   Karleen         -0.501450             -0.153301        0   \n",
       "4   5   Chrysa  Ludovika          0.886972             -0.214867        1   \n",
       "\n",
       "   Class  In Passing  Over a Meal  Party  Social_Media  Full_Moon  New_Moon  \\\n",
       "0      1           0            0      0             0          0         0   \n",
       "1      0           0            0      0             0          0         0   \n",
       "2      0           0            1      0             0          0         1   \n",
       "3      0           0            0      0             1          0         0   \n",
       "4      1           0            0      0             0          0         0   \n",
       "\n",
       "   Third_Quarter  Waning_Cresent  Waning_Gibbous  Waxing_Cresent  \\\n",
       "0              0               0               1               0   \n",
       "1              0               0               0               1   \n",
       "2              0               0               0               0   \n",
       "3              0               0               0               0   \n",
       "4              0               0               0               0   \n",
       "\n",
       "   Waxing_Gibbous  \n",
       "0               0  \n",
       "1               0  \n",
       "2               0  \n",
       "3               1  \n",
       "4               0  "
      ]
     },
     "execution_count": 45,
     "metadata": {},
     "output_type": "execute_result"
    }
   ],
   "source": [
    "traindf = process(traindf)\n",
    "testdf = process(testdf)\n",
    "traindf.head()"
   ]
  },
  {
   "cell_type": "code",
   "execution_count": 36,
   "metadata": {},
   "outputs": [],
   "source": [
    "x = traindf.drop([\"ID\", \"Person A\", \"Person B\", \"Friends\"], axis=1).values\n",
    "y = traindf[\"Friends\"].values"
   ]
  },
  {
   "cell_type": "code",
   "execution_count": 37,
   "metadata": {},
   "outputs": [],
   "source": [
    "trainX, testX, trainY, testY = train_test_split(x, y, test_size=0.33, random_state=44)"
   ]
  },
  {
   "cell_type": "markdown",
   "metadata": {},
   "source": [
    "# LogisticRegression"
   ]
  },
  {
   "cell_type": "code",
   "execution_count": 14,
   "metadata": {},
   "outputs": [
    {
     "name": "stdout",
     "output_type": "stream",
     "text": [
      "0.9147415655642347\n",
      "              precision    recall  f1-score   support\n",
      "\n",
      "           0       0.92      0.92      0.92      9321\n",
      "           1       0.91      0.91      0.91      8730\n",
      "\n",
      "    accuracy                           0.91     18051\n",
      "   macro avg       0.91      0.91      0.91     18051\n",
      "weighted avg       0.91      0.91      0.91     18051\n",
      "\n"
     ]
    },
    {
     "data": {
      "text/plain": [
       "array([[8562,  759],\n",
       "       [ 780, 7950]])"
      ]
     },
     "execution_count": 14,
     "metadata": {},
     "output_type": "execute_result"
    }
   ],
   "source": [
    "from sklearn.linear_model import LogisticRegression\n",
    "lr = LogisticRegression()\n",
    "lr.fit(trainX, trainY)\n",
    "print(lr.score(testX, testY))\n",
    "print(classification_report(testY, lr.predict(testX)))\n",
    "confusion_matrix(testY, lr.predict(testX))"
   ]
  },
  {
   "cell_type": "markdown",
   "metadata": {},
   "source": [
    "# DecisionTreeClassifier"
   ]
  },
  {
   "cell_type": "code",
   "execution_count": 15,
   "metadata": {},
   "outputs": [
    {
     "name": "stdout",
     "output_type": "stream",
     "text": [
      "0.8966262256938674\n",
      "              precision    recall  f1-score   support\n",
      "\n",
      "           0       0.90      0.90      0.90      9321\n",
      "           1       0.89      0.90      0.89      8730\n",
      "\n",
      "    accuracy                           0.90     18051\n",
      "   macro avg       0.90      0.90      0.90     18051\n",
      "weighted avg       0.90      0.90      0.90     18051\n",
      "\n"
     ]
    },
    {
     "data": {
      "text/plain": [
       "array([[8356,  965],\n",
       "       [ 901, 7829]])"
      ]
     },
     "execution_count": 15,
     "metadata": {},
     "output_type": "execute_result"
    }
   ],
   "source": [
    "from sklearn.tree import DecisionTreeClassifier\n",
    "dt = DecisionTreeClassifier()\n",
    "dt.fit(trainX, trainY)\n",
    "print(dt.score(testX, testY))\n",
    "print(classification_report(testY, dt.predict(testX)))\n",
    "confusion_matrix(testY, dt.predict(testX))"
   ]
  },
  {
   "cell_type": "markdown",
   "metadata": {},
   "source": [
    "# RandomForestClassifier"
   ]
  },
  {
   "cell_type": "code",
   "execution_count": 16,
   "metadata": {},
   "outputs": [
    {
     "name": "stdout",
     "output_type": "stream",
     "text": [
      "0.9064871752257493\n",
      "              precision    recall  f1-score   support\n",
      "\n",
      "           0       0.91      0.91      0.91      9321\n",
      "           1       0.90      0.91      0.90      8730\n",
      "\n",
      "    accuracy                           0.91     18051\n",
      "   macro avg       0.91      0.91      0.91     18051\n",
      "weighted avg       0.91      0.91      0.91     18051\n",
      "\n"
     ]
    },
    {
     "data": {
      "text/plain": [
       "array([[8455,  866],\n",
       "       [ 822, 7908]])"
      ]
     },
     "execution_count": 16,
     "metadata": {},
     "output_type": "execute_result"
    }
   ],
   "source": [
    "from sklearn.ensemble import RandomForestClassifier\n",
    "rf = RandomForestClassifier()\n",
    "rf.fit(trainX, trainY)\n",
    "print(rf.score(testX, testY))\n",
    "print(classification_report(testY, rf.predict(testX)))\n",
    "confusion_matrix(testY, rf.predict(testX))"
   ]
  },
  {
   "cell_type": "markdown",
   "metadata": {},
   "source": [
    "# GaussianNB"
   ]
  },
  {
   "cell_type": "code",
   "execution_count": 17,
   "metadata": {},
   "outputs": [
    {
     "name": "stdout",
     "output_type": "stream",
     "text": [
      "0.9096448950196665\n",
      "              precision    recall  f1-score   support\n",
      "\n",
      "           0       0.90      0.92      0.91      9321\n",
      "           1       0.92      0.89      0.91      8730\n",
      "\n",
      "    accuracy                           0.91     18051\n",
      "   macro avg       0.91      0.91      0.91     18051\n",
      "weighted avg       0.91      0.91      0.91     18051\n",
      "\n"
     ]
    },
    {
     "data": {
      "text/plain": [
       "array([[8616,  705],\n",
       "       [ 926, 7804]])"
      ]
     },
     "execution_count": 17,
     "metadata": {},
     "output_type": "execute_result"
    }
   ],
   "source": [
    "from sklearn.naive_bayes import GaussianNB \n",
    "gnb = GaussianNB() \n",
    "gnb.fit(trainX, trainY)\n",
    "print(gnb.score(testX, testY))\n",
    "print(classification_report(testY, gnb.predict(testX)))\n",
    "confusion_matrix(testY, gnb.predict(testX))"
   ]
  },
  {
   "cell_type": "markdown",
   "metadata": {},
   "source": [
    "# SVC"
   ]
  },
  {
   "cell_type": "code",
   "execution_count": 16,
   "metadata": {},
   "outputs": [
    {
     "name": "stdout",
     "output_type": "stream",
     "text": [
      "0.9145753697856075\n",
      "              precision    recall  f1-score   support\n",
      "\n",
      "           0       0.92      0.91      0.92      9321\n",
      "           1       0.91      0.92      0.91      8730\n",
      "\n",
      "    accuracy                           0.91     18051\n",
      "   macro avg       0.91      0.91      0.91     18051\n",
      "weighted avg       0.91      0.91      0.91     18051\n",
      "\n"
     ]
    },
    {
     "data": {
      "text/plain": [
       "array([[8484,  837],\n",
       "       [ 705, 8025]])"
      ]
     },
     "execution_count": 16,
     "metadata": {},
     "output_type": "execute_result"
    }
   ],
   "source": [
    "from sklearn.svm import SVC\n",
    "svm = SVC(gamma='auto', probability=True)\n",
    "svm.fit(trainX, trainY)\n",
    "print(svm.score(testX, testY))\n",
    "print(classification_report(testY, svm.predict(testX)))\n",
    "confusion_matrix(testY, svm.predict(testX))"
   ]
  },
  {
   "cell_type": "markdown",
   "metadata": {},
   "source": [
    "# Cross Validation Score"
   ]
  },
  {
   "cell_type": "code",
   "execution_count": 19,
   "metadata": {},
   "outputs": [
    {
     "name": "stdout",
     "output_type": "stream",
     "text": [
      "0.9159369048870477\n",
      "0.8960820725468958\n",
      "0.9071430149542927\n",
      "0.9110189261273212\n",
      "0.9164853877234783\n"
     ]
    }
   ],
   "source": [
    "from sklearn.model_selection import cross_val_score\n",
    "print(cross_val_score(lr, x, y, cv=5).mean())\n",
    "print(cross_val_score(dt, x, y, cv=5).mean())\n",
    "print(cross_val_score(rf, x, y, cv=5).mean())\n",
    "print(cross_val_score(gnb, x, y, cv=5).mean())\n",
    "print(cross_val_score(svm, x, y, cv=5).mean())"
   ]
  },
  {
   "cell_type": "markdown",
   "metadata": {},
   "source": [
    "# Deep Neural Network Model"
   ]
  },
  {
   "cell_type": "code",
   "execution_count": 20,
   "metadata": {
    "scrolled": true
   },
   "outputs": [
    {
     "name": "stderr",
     "output_type": "stream",
     "text": [
      "Using TensorFlow backend.\n"
     ]
    },
    {
     "name": "stdout",
     "output_type": "stream",
     "text": [
      "WARNING:tensorflow:From /home/aman/.local/lib/python3.7/site-packages/keras/backend/tensorflow_backend.py:422: The name tf.global_variables is deprecated. Please use tf.compat.v1.global_variables instead.\n",
      "\n",
      "Train on 36646 samples, validate on 18051 samples\n",
      "Epoch 1/20\n",
      "36646/36646 [==============================] - 2s 54us/step - loss: 0.2251 - accuracy: 0.9030 - val_loss: 0.1910 - val_accuracy: 0.9134\n",
      "Epoch 2/20\n",
      "36646/36646 [==============================] - 1s 38us/step - loss: 0.1856 - accuracy: 0.9171 - val_loss: 0.1874 - val_accuracy: 0.9145\n",
      "Epoch 3/20\n",
      "36646/36646 [==============================] - 1s 39us/step - loss: 0.1823 - accuracy: 0.9170 - val_loss: 0.1846 - val_accuracy: 0.9136\n",
      "Epoch 4/20\n",
      "36646/36646 [==============================] - 1s 35us/step - loss: 0.1786 - accuracy: 0.9176 - val_loss: 0.1797 - val_accuracy: 0.9152\n",
      "Epoch 5/20\n",
      "36646/36646 [==============================] - 1s 35us/step - loss: 0.1725 - accuracy: 0.9172 - val_loss: 0.1727 - val_accuracy: 0.9159\n",
      "Epoch 6/20\n",
      "36646/36646 [==============================] - 1s 35us/step - loss: 0.1665 - accuracy: 0.9180 - val_loss: 0.1686 - val_accuracy: 0.9144\n",
      "Epoch 7/20\n",
      "36646/36646 [==============================] - 1s 34us/step - loss: 0.1630 - accuracy: 0.9184 - val_loss: 0.1664 - val_accuracy: 0.9151\n",
      "Epoch 8/20\n",
      "36646/36646 [==============================] - 1s 33us/step - loss: 0.1603 - accuracy: 0.9182 - val_loss: 0.1637 - val_accuracy: 0.9136\n",
      "Epoch 9/20\n",
      "36646/36646 [==============================] - 1s 35us/step - loss: 0.1584 - accuracy: 0.9174 - val_loss: 0.1618 - val_accuracy: 0.9142\n",
      "Epoch 10/20\n",
      "36646/36646 [==============================] - 1s 35us/step - loss: 0.1573 - accuracy: 0.9180 - val_loss: 0.1617 - val_accuracy: 0.9141\n",
      "Epoch 11/20\n",
      "36646/36646 [==============================] - 1s 35us/step - loss: 0.1557 - accuracy: 0.9178 - val_loss: 0.1604 - val_accuracy: 0.9139\n",
      "Epoch 12/20\n",
      "36646/36646 [==============================] - 1s 35us/step - loss: 0.1548 - accuracy: 0.9188 - val_loss: 0.1583 - val_accuracy: 0.9149\n",
      "Epoch 13/20\n",
      "36646/36646 [==============================] - 1s 35us/step - loss: 0.1541 - accuracy: 0.9187 - val_loss: 0.1587 - val_accuracy: 0.9129\n",
      "Epoch 14/20\n",
      "36646/36646 [==============================] - 1s 35us/step - loss: 0.1530 - accuracy: 0.9189 - val_loss: 0.1575 - val_accuracy: 0.9132\n",
      "Epoch 15/20\n",
      "36646/36646 [==============================] - 1s 34us/step - loss: 0.1522 - accuracy: 0.9193 - val_loss: 0.1585 - val_accuracy: 0.9140\n",
      "Epoch 16/20\n",
      "36646/36646 [==============================] - 1s 38us/step - loss: 0.1525 - accuracy: 0.9194 - val_loss: 0.1572 - val_accuracy: 0.9142\n",
      "Epoch 17/20\n",
      "36646/36646 [==============================] - 1s 36us/step - loss: 0.1517 - accuracy: 0.9186 - val_loss: 0.1578 - val_accuracy: 0.9146\n",
      "Epoch 18/20\n",
      "36646/36646 [==============================] - 2s 49us/step - loss: 0.1514 - accuracy: 0.9189 - val_loss: 0.1579 - val_accuracy: 0.9143\n",
      "Epoch 19/20\n",
      "36646/36646 [==============================] - 1s 38us/step - loss: 0.1509 - accuracy: 0.9200 - val_loss: 0.1570 - val_accuracy: 0.9111\n",
      "Epoch 20/20\n",
      "36646/36646 [==============================] - 1s 34us/step - loss: 0.1507 - accuracy: 0.9188 - val_loss: 0.1563 - val_accuracy: 0.9150\n"
     ]
    },
    {
     "data": {
      "text/plain": [
       "<keras.callbacks.callbacks.History at 0x7fa5ea0b2c88>"
      ]
     },
     "execution_count": 20,
     "metadata": {},
     "output_type": "execute_result"
    }
   ],
   "source": [
    "from keras.models import Sequential\n",
    "from keras.layers import Dense, Activation\n",
    "from tensorflow.keras.utils import to_categorical\n",
    "\n",
    "model = Sequential()\n",
    "model.add(Dense(32, activation = 'relu', input_shape = trainX[0].shape))\n",
    "model.add(Dense(8, activation='relu'))\n",
    "model.add(Dense(2, activation='softmax'))\n",
    "model.compile(optimizer='Adam', loss='categorical_crossentropy', metrics=['accuracy'])\n",
    "\n",
    "model.fit(trainX, to_categorical(trainY), epochs=20, verbose=1, validation_data=(testX, to_categorical(testY)))"
   ]
  },
  {
   "cell_type": "code",
   "execution_count": 22,
   "metadata": {},
   "outputs": [
    {
     "data": {
      "image/png": "[encoded data removed]",
      "text/plain": [
       "<Figure size 432x288 with 1 Axes>"
      ]
     },
     "metadata": {
      "needs_background": "light"
     },
     "output_type": "display_data"
    },
    {
     "data": {
      "image/png": "[encoded data removed]",
      "text/plain": [
       "<Figure size 432x288 with 1 Axes>"
      ]
     },
     "metadata": {
      "needs_background": "light"
     },
     "output_type": "display_data"
    }
   ],
   "source": [
    "import matplotlib.pyplot as plt\n",
    "\n",
    "plt.plot(model.history.history['accuracy'])\n",
    "plt.plot(model.history.history['val_accuracy'])\n",
    "plt.title('Model accuracy')\n",
    "plt.ylabel('Accuracy')\n",
    "plt.xlabel('Epoch')\n",
    "plt.legend(['Train', 'Test'], loc='upper left')\n",
    "plt.show()\n",
    "\n",
    "plt.plot(model.history.history['loss'])\n",
    "plt.plot(model.history.history['val_loss'])\n",
    "plt.title('Model loss')\n",
    "plt.ylabel('Loss')\n",
    "plt.xlabel('Epoch')\n",
    "plt.legend(['Train', 'Test'], loc='upper left')\n",
    "plt.show()"
   ]
  },
  {
   "cell_type": "code",
   "execution_count": 23,
   "metadata": {},
   "outputs": [
    {
     "name": "stdout",
     "output_type": "stream",
     "text": [
      "              precision    recall  f1-score   support\n",
      "\n",
      "           0       0.92      0.91      0.92      9321\n",
      "           1       0.91      0.92      0.91      8730\n",
      "\n",
      "    accuracy                           0.91     18051\n",
      "   macro avg       0.91      0.92      0.91     18051\n",
      "weighted avg       0.92      0.91      0.91     18051\n",
      "\n"
     ]
    },
    {
     "data": {
      "text/plain": [
       "array([[8487,  834],\n",
       "       [ 701, 8029]])"
      ]
     },
     "execution_count": 23,
     "metadata": {},
     "output_type": "execute_result"
    }
   ],
   "source": [
    "print(classification_report(testY, np.argmax(model.predict(testX), axis=1)))\n",
    "confusion_matrix(testY, np.argmax(model.predict(testX), axis=1))"
   ]
  },
  {
   "cell_type": "markdown",
   "metadata": {},
   "source": [
    "# Ensemble Learning\n",
    "\n",
    "# Voting Classifier"
   ]
  },
  {
   "cell_type": "code",
   "execution_count": 24,
   "metadata": {},
   "outputs": [
    {
     "name": "stdout",
     "output_type": "stream",
     "text": [
      "0.9152401529001163\n",
      "0.9159551814090202\n",
      "              precision    recall  f1-score   support\n",
      "\n",
      "           0       0.92      0.92      0.92      9321\n",
      "           1       0.91      0.91      0.91      8730\n",
      "\n",
      "    accuracy                           0.92     18051\n",
      "   macro avg       0.92      0.92      0.92     18051\n",
      "weighted avg       0.92      0.92      0.92     18051\n",
      "\n"
     ]
    },
    {
     "data": {
      "text/plain": [
       "array([[8554,  767],\n",
       "       [ 763, 7967]])"
      ]
     },
     "execution_count": 24,
     "metadata": {},
     "output_type": "execute_result"
    }
   ],
   "source": [
    "from sklearn.ensemble import VotingClassifier\n",
    "estimators = [('Logistic Regression', lr), ('Random Forest', rf), ('Naive', gnb), ('SVC', svm)]#, ('ANN', model)]\n",
    "weights = [2, 1, 1, 2]#, 2]\n",
    "ensemble=VotingClassifier(estimators=estimators, voting='soft', weights=weights)\n",
    "ensemble.fit(trainX,trainY)\n",
    "print(ensemble.score(testX, testY))\n",
    "print(cross_val_score(ensemble, x, y, cv=5).mean())\n",
    "print(classification_report(testY, ensemble.predict(testX)))\n",
    "confusion_matrix(testY, ensemble.predict(testX))"
   ]
  },
  {
   "cell_type": "markdown",
   "metadata": {},
   "source": [
    "# XG Boost"
   ]
  },
  {
   "cell_type": "code",
   "execution_count": 25,
   "metadata": {},
   "outputs": [
    {
     "name": "stdout",
     "output_type": "stream",
     "text": [
      "              precision    recall  f1-score   support\n",
      "\n",
      "           0       0.95      0.88      0.92      9321\n",
      "           1       0.88      0.95      0.92      8730\n",
      "\n",
      "    accuracy                           0.92     18051\n",
      "   macro avg       0.92      0.92      0.92     18051\n",
      "weighted avg       0.92      0.92      0.92     18051\n",
      "\n"
     ]
    },
    {
     "data": {
      "text/plain": [
       "array([[8219, 1102],\n",
       "       [ 415, 8315]])"
      ]
     },
     "execution_count": 25,
     "metadata": {},
     "output_type": "execute_result"
    }
   ],
   "source": [
    "import xgboost as xgb\n",
    "\n",
    "trainD = xgb.DMatrix(trainX, trainY)\n",
    "testD = xgb.DMatrix(testX, testY)\n",
    "\n",
    "param = {\n",
    "    'eta': 0.3, \n",
    "    'max_depth': 3,  \n",
    "    'objective': 'multi:softprob',  \n",
    "    'num_class': 3} \n",
    "\n",
    "steps = 20\n",
    "\n",
    "model = xgb.train(param, trainD, steps)\n",
    "print(classification_report(testY, np.argmax(model.predict(testD), axis=1)))\n",
    "confusion_matrix(testY,  np.argmax(model.predict(testD), axis=1))"
   ]
  },
  {
   "cell_type": "markdown",
   "metadata": {},
   "source": [
    "# Stacking"
   ]
  },
  {
   "cell_type": "code",
   "execution_count": 26,
   "metadata": {},
   "outputs": [],
   "source": [
    "lrTrain = lr.predict(trainX)\n",
    "lrTest = lr.predict(testX)\n",
    "\n",
    "rfTrain = rf.predict(trainX)\n",
    "rfTest = rf.predict(testX)\n",
    "\n",
    "gnbTrain = gnb.predict(trainX)\n",
    "gnbTest = gnb.predict(testX)\n",
    "\n",
    "svmTrain = svm.predict(trainX)\n",
    "svmTest = svm.predict(testX)"
   ]
  },
  {
   "cell_type": "code",
   "execution_count": 27,
   "metadata": {},
   "outputs": [],
   "source": [
    "trainPred = pd.DataFrame({'LR' : lrTrain, 'RF' : rfTrain, 'NB' : gnbTrain, 'svc' : svmTrain, 'y' : trainY})\n",
    "testPred = pd.DataFrame({'LR' : lrTest, 'RF' : rfTest, 'NB' : gnbTest, 'svc' : svmTest, 'y' : testY})"
   ]
  },
  {
   "cell_type": "code",
   "execution_count": 28,
   "metadata": {},
   "outputs": [
    {
     "data": {
      "text/html": [
       "<div>\n",
       "<style scoped>\n",
       "    .dataframe tbody tr th:only-of-type {\n",
       "        vertical-align: middle;\n",
       "    }\n",
       "\n",
       "    .dataframe tbody tr th {\n",
       "        vertical-align: top;\n",
       "    }\n",
       "\n",
       "    .dataframe thead th {\n",
       "        text-align: right;\n",
       "    }\n",
       "</style>\n",
       "<table border=\"1\" class=\"dataframe\">\n",
       "  <thead>\n",
       "    <tr style=\"text-align: right;\">\n",
       "      <th></th>\n",
       "      <th>LR</th>\n",
       "      <th>RF</th>\n",
       "      <th>NB</th>\n",
       "      <th>svc</th>\n",
       "      <th>y</th>\n",
       "    </tr>\n",
       "  </thead>\n",
       "  <tbody>\n",
       "    <tr>\n",
       "      <th>LR</th>\n",
       "      <td>1.000000</td>\n",
       "      <td>0.833472</td>\n",
       "      <td>0.960423</td>\n",
       "      <td>0.983956</td>\n",
       "      <td>0.833418</td>\n",
       "    </tr>\n",
       "    <tr>\n",
       "      <th>RF</th>\n",
       "      <td>0.833472</td>\n",
       "      <td>1.000000</td>\n",
       "      <td>0.823103</td>\n",
       "      <td>0.835948</td>\n",
       "      <td>0.999945</td>\n",
       "    </tr>\n",
       "    <tr>\n",
       "      <th>NB</th>\n",
       "      <td>0.960423</td>\n",
       "      <td>0.823103</td>\n",
       "      <td>1.000000</td>\n",
       "      <td>0.950882</td>\n",
       "      <td>0.823050</td>\n",
       "    </tr>\n",
       "    <tr>\n",
       "      <th>svc</th>\n",
       "      <td>0.983956</td>\n",
       "      <td>0.835948</td>\n",
       "      <td>0.950882</td>\n",
       "      <td>1.000000</td>\n",
       "      <td>0.835893</td>\n",
       "    </tr>\n",
       "    <tr>\n",
       "      <th>y</th>\n",
       "      <td>0.833418</td>\n",
       "      <td>0.999945</td>\n",
       "      <td>0.823050</td>\n",
       "      <td>0.835893</td>\n",
       "      <td>1.000000</td>\n",
       "    </tr>\n",
       "  </tbody>\n",
       "</table>\n",
       "</div>"
      ],
      "text/plain": [
       "           LR        RF        NB       svc         y\n",
       "LR   1.000000  0.833472  0.960423  0.983956  0.833418\n",
       "RF   0.833472  1.000000  0.823103  0.835948  0.999945\n",
       "NB   0.960423  0.823103  1.000000  0.950882  0.823050\n",
       "svc  0.983956  0.835948  0.950882  1.000000  0.835893\n",
       "y    0.833418  0.999945  0.823050  0.835893  1.000000"
      ]
     },
     "execution_count": 28,
     "metadata": {},
     "output_type": "execute_result"
    }
   ],
   "source": [
    "trainPred.corr()"
   ]
  },
  {
   "cell_type": "code",
   "execution_count": 29,
   "metadata": {},
   "outputs": [
    {
     "data": {
      "text/html": [
       "<div>\n",
       "<style scoped>\n",
       "    .dataframe tbody tr th:only-of-type {\n",
       "        vertical-align: middle;\n",
       "    }\n",
       "\n",
       "    .dataframe tbody tr th {\n",
       "        vertical-align: top;\n",
       "    }\n",
       "\n",
       "    .dataframe thead th {\n",
       "        text-align: right;\n",
       "    }\n",
       "</style>\n",
       "<table border=\"1\" class=\"dataframe\">\n",
       "  <thead>\n",
       "    <tr style=\"text-align: right;\">\n",
       "      <th></th>\n",
       "      <th>LR</th>\n",
       "      <th>RF</th>\n",
       "      <th>NB</th>\n",
       "      <th>svc</th>\n",
       "      <th>y</th>\n",
       "    </tr>\n",
       "  </thead>\n",
       "  <tbody>\n",
       "    <tr>\n",
       "      <th>LR</th>\n",
       "      <td>1.000000</td>\n",
       "      <td>0.878803</td>\n",
       "      <td>0.961380</td>\n",
       "      <td>0.981848</td>\n",
       "      <td>0.829289</td>\n",
       "    </tr>\n",
       "    <tr>\n",
       "      <th>RF</th>\n",
       "      <td>0.878803</td>\n",
       "      <td>1.000000</td>\n",
       "      <td>0.864653</td>\n",
       "      <td>0.882981</td>\n",
       "      <td>0.812813</td>\n",
       "    </tr>\n",
       "    <tr>\n",
       "      <th>NB</th>\n",
       "      <td>0.961380</td>\n",
       "      <td>0.864653</td>\n",
       "      <td>1.000000</td>\n",
       "      <td>0.951152</td>\n",
       "      <td>0.819197</td>\n",
       "    </tr>\n",
       "    <tr>\n",
       "      <th>svc</th>\n",
       "      <td>0.981848</td>\n",
       "      <td>0.882981</td>\n",
       "      <td>0.951152</td>\n",
       "      <td>1.000000</td>\n",
       "      <td>0.829138</td>\n",
       "    </tr>\n",
       "    <tr>\n",
       "      <th>y</th>\n",
       "      <td>0.829289</td>\n",
       "      <td>0.812813</td>\n",
       "      <td>0.819197</td>\n",
       "      <td>0.829138</td>\n",
       "      <td>1.000000</td>\n",
       "    </tr>\n",
       "  </tbody>\n",
       "</table>\n",
       "</div>"
      ],
      "text/plain": [
       "           LR        RF        NB       svc         y\n",
       "LR   1.000000  0.878803  0.961380  0.981848  0.829289\n",
       "RF   0.878803  1.000000  0.864653  0.882981  0.812813\n",
       "NB   0.961380  0.864653  1.000000  0.951152  0.819197\n",
       "svc  0.981848  0.882981  0.951152  1.000000  0.829138\n",
       "y    0.829289  0.812813  0.819197  0.829138  1.000000"
      ]
     },
     "execution_count": 29,
     "metadata": {},
     "output_type": "execute_result"
    }
   ],
   "source": [
    "testPred.corr()"
   ]
  },
  {
   "cell_type": "code",
   "execution_count": 30,
   "metadata": {},
   "outputs": [],
   "source": [
    "train_X = trainPred.drop(['y', 'LR', 'NB'], axis=1).values\n",
    "train_Y = trainPred['y'].values\n",
    "\n",
    "test_X = testPred.drop(['y', 'LR', 'NB'], axis=1).values\n",
    "test_Y = testPred['y'].values"
   ]
  },
  {
   "cell_type": "code",
   "execution_count": 31,
   "metadata": {},
   "outputs": [
    {
     "name": "stdout",
     "output_type": "stream",
     "text": [
      "0.9064871752257493\n"
     ]
    },
    {
     "data": {
      "text/plain": [
       "array([[8455,  866],\n",
       "       [ 822, 7908]])"
      ]
     },
     "execution_count": 31,
     "metadata": {},
     "output_type": "execute_result"
    }
   ],
   "source": [
    "lr.fit(train_X, train_Y)\n",
    "print(lr.score(test_X, test_Y))\n",
    "confusion_matrix(test_Y, lr.predict(test_X))"
   ]
  },
  {
   "cell_type": "code",
   "execution_count": 32,
   "metadata": {},
   "outputs": [
    {
     "name": "stdout",
     "output_type": "stream",
     "text": [
      "0.9064871752257493\n"
     ]
    },
    {
     "data": {
      "text/plain": [
       "array([[8455,  866],\n",
       "       [ 822, 7908]])"
      ]
     },
     "execution_count": 32,
     "metadata": {},
     "output_type": "execute_result"
    }
   ],
   "source": [
    "svm.fit(train_X, train_Y)\n",
    "print(svm.score(test_X, test_Y))\n",
    "confusion_matrix(test_Y, svm.predict(test_X))"
   ]
  },
  {
   "cell_type": "code",
   "execution_count": 33,
   "metadata": {},
   "outputs": [
    {
     "name": "stdout",
     "output_type": "stream",
     "text": [
      "0.9064871752257493\n"
     ]
    },
    {
     "data": {
      "text/plain": [
       "array([[8455,  866],\n",
       "       [ 822, 7908]])"
      ]
     },
     "execution_count": 33,
     "metadata": {},
     "output_type": "execute_result"
    }
   ],
   "source": [
    "gnb.fit(train_X, train_Y)\n",
    "print(gnb.score(test_X, test_Y))\n",
    "confusion_matrix(test_Y, gnb.predict(test_X))"
   ]
  },
  {
   "cell_type": "markdown",
   "metadata": {},
   "source": [
    "# Training on full data and generation of prediction file\n",
    "\n",
    "SVM Model seems to be best according cross validation score"
   ]
  },
  {
   "cell_type": "code",
   "execution_count": 53,
   "metadata": {},
   "outputs": [
    {
     "data": {
      "text/html": [
       "<div>\n",
       "<style scoped>\n",
       "    .dataframe tbody tr th:only-of-type {\n",
       "        vertical-align: middle;\n",
       "    }\n",
       "\n",
       "    .dataframe tbody tr th {\n",
       "        vertical-align: top;\n",
       "    }\n",
       "\n",
       "    .dataframe thead th {\n",
       "        text-align: right;\n",
       "    }\n",
       "</style>\n",
       "<table border=\"1\" class=\"dataframe\">\n",
       "  <thead>\n",
       "    <tr style=\"text-align: right;\">\n",
       "      <th></th>\n",
       "      <th>ID</th>\n",
       "      <th>Person A</th>\n",
       "      <th>Person B</th>\n",
       "      <th>Years of Knowing</th>\n",
       "      <th>Interaction Duration</th>\n",
       "      <th>Class</th>\n",
       "      <th>In Passing</th>\n",
       "      <th>Over a Meal</th>\n",
       "      <th>Party</th>\n",
       "      <th>Social_Media</th>\n",
       "      <th>Full_Moon</th>\n",
       "      <th>New_Moon</th>\n",
       "      <th>Third_Quarter</th>\n",
       "      <th>Waning_Cresent</th>\n",
       "      <th>Waning_Gibbous</th>\n",
       "      <th>Waxing_Cresent</th>\n",
       "      <th>Waxing_Gibbous</th>\n",
       "    </tr>\n",
       "  </thead>\n",
       "  <tbody>\n",
       "    <tr>\n",
       "      <th>0</th>\n",
       "      <td>1</td>\n",
       "      <td>Janaya</td>\n",
       "      <td>Nicolina</td>\n",
       "      <td>0.300753</td>\n",
       "      <td>0.382877</td>\n",
       "      <td>1</td>\n",
       "      <td>0</td>\n",
       "      <td>0</td>\n",
       "      <td>0</td>\n",
       "      <td>0</td>\n",
       "      <td>0</td>\n",
       "      <td>0</td>\n",
       "      <td>0</td>\n",
       "      <td>0</td>\n",
       "      <td>1</td>\n",
       "      <td>0</td>\n",
       "      <td>0</td>\n",
       "    </tr>\n",
       "    <tr>\n",
       "      <th>1</th>\n",
       "      <td>2</td>\n",
       "      <td>Nina</td>\n",
       "      <td>Rachelle</td>\n",
       "      <td>-0.585316</td>\n",
       "      <td>-0.647173</td>\n",
       "      <td>0</td>\n",
       "      <td>0</td>\n",
       "      <td>0</td>\n",
       "      <td>0</td>\n",
       "      <td>0</td>\n",
       "      <td>0</td>\n",
       "      <td>0</td>\n",
       "      <td>0</td>\n",
       "      <td>0</td>\n",
       "      <td>0</td>\n",
       "      <td>1</td>\n",
       "      <td>0</td>\n",
       "    </tr>\n",
       "    <tr>\n",
       "      <th>2</th>\n",
       "      <td>3</td>\n",
       "      <td>Deborah</td>\n",
       "      <td>Veda</td>\n",
       "      <td>0.014962</td>\n",
       "      <td>-0.779580</td>\n",
       "      <td>0</td>\n",
       "      <td>0</td>\n",
       "      <td>1</td>\n",
       "      <td>0</td>\n",
       "      <td>0</td>\n",
       "      <td>0</td>\n",
       "      <td>1</td>\n",
       "      <td>0</td>\n",
       "      <td>0</td>\n",
       "      <td>0</td>\n",
       "      <td>0</td>\n",
       "      <td>0</td>\n",
       "    </tr>\n",
       "    <tr>\n",
       "      <th>3</th>\n",
       "      <td>4</td>\n",
       "      <td>Susanetta</td>\n",
       "      <td>Annalise</td>\n",
       "      <td>-0.870766</td>\n",
       "      <td>-0.153301</td>\n",
       "      <td>0</td>\n",
       "      <td>0</td>\n",
       "      <td>0</td>\n",
       "      <td>0</td>\n",
       "      <td>1</td>\n",
       "      <td>0</td>\n",
       "      <td>0</td>\n",
       "      <td>0</td>\n",
       "      <td>0</td>\n",
       "      <td>0</td>\n",
       "      <td>0</td>\n",
       "      <td>1</td>\n",
       "    </tr>\n",
       "    <tr>\n",
       "      <th>4</th>\n",
       "      <td>5</td>\n",
       "      <td>Janeczka</td>\n",
       "      <td>Bobbe</td>\n",
       "      <td>0.264057</td>\n",
       "      <td>-0.214867</td>\n",
       "      <td>1</td>\n",
       "      <td>0</td>\n",
       "      <td>0</td>\n",
       "      <td>0</td>\n",
       "      <td>0</td>\n",
       "      <td>0</td>\n",
       "      <td>0</td>\n",
       "      <td>0</td>\n",
       "      <td>0</td>\n",
       "      <td>0</td>\n",
       "      <td>0</td>\n",
       "      <td>0</td>\n",
       "    </tr>\n",
       "  </tbody>\n",
       "</table>\n",
       "</div>"
      ],
      "text/plain": [
       "   ID   Person A  Person B  Years of Knowing  Interaction Duration  Class  \\\n",
       "0   1     Janaya  Nicolina          0.300753              0.382877      1   \n",
       "1   2       Nina  Rachelle         -0.585316             -0.647173      0   \n",
       "2   3    Deborah      Veda          0.014962             -0.779580      0   \n",
       "3   4  Susanetta  Annalise         -0.870766             -0.153301      0   \n",
       "4   5   Janeczka     Bobbe          0.264057             -0.214867      1   \n",
       "\n",
       "   In Passing  Over a Meal  Party  Social_Media  Full_Moon  New_Moon  \\\n",
       "0           0            0      0             0          0         0   \n",
       "1           0            0      0             0          0         0   \n",
       "2           0            1      0             0          0         1   \n",
       "3           0            0      0             1          0         0   \n",
       "4           0            0      0             0          0         0   \n",
       "\n",
       "   Third_Quarter  Waning_Cresent  Waning_Gibbous  Waxing_Cresent  \\\n",
       "0              0               0               1               0   \n",
       "1              0               0               0               1   \n",
       "2              0               0               0               0   \n",
       "3              0               0               0               0   \n",
       "4              0               0               0               0   \n",
       "\n",
       "   Waxing_Gibbous  \n",
       "0               0  \n",
       "1               0  \n",
       "2               0  \n",
       "3               1  \n",
       "4               0  "
      ]
     },
     "execution_count": 53,
     "metadata": {},
     "output_type": "execute_result"
    }
   ],
   "source": [
    "testdf.head()"
   ]
  },
  {
   "cell_type": "code",
   "execution_count": 62,
   "metadata": {},
   "outputs": [
    {
     "name": "stdout",
     "output_type": "stream",
     "text": [
      "(array([0, 1]), array([28958, 25739]))\n"
     ]
    }
   ],
   "source": [
    "svm.fit(x, y)\n",
    "testX = testdf.drop([\"ID\", \"Person A\", \"Person B\"], axis=1).values\n",
    "pred = svm.predict(testX)\n",
    "print(np.unique(np.array(pred), return_counts=True))\n",
    "subdf[\"Friends\"] = pred\n",
    "print(subdf.groupby([\"Friends\"]).size())\n",
    "subdf.to_csv(\"Submission.csv\", index=False)"
   ]
  }
 ],
 "metadata": {
  "kernelspec": {
   "display_name": "Python 3",
   "language": "python",
   "name": "python3"
  },
  "language_info": {
   "codemirror_mode": {
    "name": "ipython",
    "version": 3
   },
   "file_extension": ".py",
   "mimetype": "text/x-python",
   "name": "python",
   "nbconvert_exporter": "python",
   "pygments_lexer": "ipython3",
   "version": "3.7.3"
  }
 },
 "nbformat": 4,
 "nbformat_minor": 4
}
