{
 "cells": [
  {
   "cell_type": "code",
   "execution_count": 1,
   "metadata": {
    "scrolled": true
   },
   "outputs": [
    {
     "name": "stderr",
     "output_type": "stream",
     "text": [
      "/home/aman/anaconda3/lib/python3.7/site-packages/statsmodels/tools/_testing.py:19: FutureWarning: pandas.util.testing is deprecated. Use the functions in the public API at pandas.testing instead.\n",
      "  import pandas.util.testing as tm\n"
     ]
    }
   ],
   "source": [
    "import pandas as pd\n",
    "import numpy as np\n",
    "import seaborn as sns\n",
    "from sklearn.preprocessing import LabelEncoder\n",
    "from sklearn.preprocessing import StandardScaler\n",
    "from sklearn.model_selection import train_test_split\n",
    "from sklearn.metrics import classification_report, confusion_matrix\n",
    "\n",
    "import warnings\n",
    "warnings.simplefilter('ignore')"
   ]
  },
  {
   "cell_type": "code",
   "execution_count": 2,
   "metadata": {},
   "outputs": [],
   "source": [
    "traindf = pd.read_csv(\"train.csv\")\n",
    "testdf = pd.read_csv(\"test.csv\")\n",
    "subdf = pd.read_csv(\"sample_submission.csv\")"
   ]
  },
  {
   "cell_type": "code",
   "execution_count": 3,
   "metadata": {},
   "outputs": [
    {
     "data": {
      "text/html": [
       "<div>\n",
       "<style scoped>\n",
       "    .dataframe tbody tr th:only-of-type {\n",
       "        vertical-align: middle;\n",
       "    }\n",
       "\n",
       "    .dataframe tbody tr th {\n",
       "        vertical-align: top;\n",
       "    }\n",
       "\n",
       "    .dataframe thead th {\n",
       "        text-align: right;\n",
       "    }\n",
       "</style>\n",
       "<table border=\"1\" class=\"dataframe\">\n",
       "  <thead>\n",
       "    <tr style=\"text-align: right;\">\n",
       "      <th></th>\n",
       "      <th>ID</th>\n",
       "      <th>Person A</th>\n",
       "      <th>Person B</th>\n",
       "      <th>Years of Knowing</th>\n",
       "      <th>Interaction Duration</th>\n",
       "      <th>Interaction Type</th>\n",
       "      <th>Moon Phase During Interaction</th>\n",
       "      <th>Friends</th>\n",
       "    </tr>\n",
       "  </thead>\n",
       "  <tbody>\n",
       "    <tr>\n",
       "      <th>0</th>\n",
       "      <td>1</td>\n",
       "      <td>Alika</td>\n",
       "      <td>Alfie</td>\n",
       "      <td>3.876560</td>\n",
       "      <td>13.035115</td>\n",
       "      <td>Class</td>\n",
       "      <td>Waning_Gibbous</td>\n",
       "      <td>1</td>\n",
       "    </tr>\n",
       "    <tr>\n",
       "      <th>1</th>\n",
       "      <td>2</td>\n",
       "      <td>Pennie</td>\n",
       "      <td>Lolita</td>\n",
       "      <td>2.836218</td>\n",
       "      <td>5.811429</td>\n",
       "      <td>At Work</td>\n",
       "      <td>Waxing_Cresent</td>\n",
       "      <td>0</td>\n",
       "    </tr>\n",
       "    <tr>\n",
       "      <th>2</th>\n",
       "      <td>3</td>\n",
       "      <td>Crissy</td>\n",
       "      <td>Carree</td>\n",
       "      <td>3.006119</td>\n",
       "      <td>4.882863</td>\n",
       "      <td>Over a Meal</td>\n",
       "      <td>New_Moon</td>\n",
       "      <td>0</td>\n",
       "    </tr>\n",
       "    <tr>\n",
       "      <th>3</th>\n",
       "      <td>4</td>\n",
       "      <td>Eyde</td>\n",
       "      <td>Karleen</td>\n",
       "      <td>2.960067</td>\n",
       "      <td>9.274924</td>\n",
       "      <td>Social_Media</td>\n",
       "      <td>Waxing_Gibbous</td>\n",
       "      <td>0</td>\n",
       "    </tr>\n",
       "    <tr>\n",
       "      <th>4</th>\n",
       "      <td>5</td>\n",
       "      <td>Chrysa</td>\n",
       "      <td>Ludovika</td>\n",
       "      <td>7.640688</td>\n",
       "      <td>8.843167</td>\n",
       "      <td>Class</td>\n",
       "      <td>First_Quarter</td>\n",
       "      <td>1</td>\n",
       "    </tr>\n",
       "  </tbody>\n",
       "</table>\n",
       "</div>"
      ],
      "text/plain": [
       "   ID Person A  Person B  Years of Knowing  Interaction Duration  \\\n",
       "0   1    Alika     Alfie          3.876560             13.035115   \n",
       "1   2   Pennie    Lolita          2.836218              5.811429   \n",
       "2   3   Crissy    Carree          3.006119              4.882863   \n",
       "3   4     Eyde   Karleen          2.960067              9.274924   \n",
       "4   5   Chrysa  Ludovika          7.640688              8.843167   \n",
       "\n",
       "  Interaction Type Moon Phase During Interaction  Friends  \n",
       "0            Class                Waning_Gibbous        1  \n",
       "1          At Work                Waxing_Cresent        0  \n",
       "2      Over a Meal                      New_Moon        0  \n",
       "3     Social_Media                Waxing_Gibbous        0  \n",
       "4            Class                 First_Quarter        1  "
      ]
     },
     "execution_count": 3,
     "metadata": {},
     "output_type": "execute_result"
    }
   ],
   "source": [
    "traindf.head()"
   ]
  },
  {
   "cell_type": "code",
   "execution_count": 4,
   "metadata": {},
   "outputs": [
    {
     "data": {
      "text/html": [
       "<div>\n",
       "<style scoped>\n",
       "    .dataframe tbody tr th:only-of-type {\n",
       "        vertical-align: middle;\n",
       "    }\n",
       "\n",
       "    .dataframe tbody tr th {\n",
       "        vertical-align: top;\n",
       "    }\n",
       "\n",
       "    .dataframe thead th {\n",
       "        text-align: right;\n",
       "    }\n",
       "</style>\n",
       "<table border=\"1\" class=\"dataframe\">\n",
       "  <thead>\n",
       "    <tr style=\"text-align: right;\">\n",
       "      <th></th>\n",
       "      <th>ID</th>\n",
       "      <th>Person A</th>\n",
       "      <th>Person B</th>\n",
       "      <th>Years of Knowing</th>\n",
       "      <th>Interaction Duration</th>\n",
       "      <th>Interaction Type</th>\n",
       "      <th>Moon Phase During Interaction</th>\n",
       "    </tr>\n",
       "  </thead>\n",
       "  <tbody>\n",
       "    <tr>\n",
       "      <th>0</th>\n",
       "      <td>1</td>\n",
       "      <td>Janaya</td>\n",
       "      <td>Nicolina</td>\n",
       "      <td>5.662542</td>\n",
       "      <td>14.863449</td>\n",
       "      <td>Social_Media</td>\n",
       "      <td>New_Moon</td>\n",
       "    </tr>\n",
       "    <tr>\n",
       "      <th>1</th>\n",
       "      <td>2</td>\n",
       "      <td>Nina</td>\n",
       "      <td>Rachelle</td>\n",
       "      <td>2.685942</td>\n",
       "      <td>3.002966</td>\n",
       "      <td>Class</td>\n",
       "      <td>Waxing_Cresent</td>\n",
       "    </tr>\n",
       "    <tr>\n",
       "      <th>2</th>\n",
       "      <td>3</td>\n",
       "      <td>Deborah</td>\n",
       "      <td>Veda</td>\n",
       "      <td>4.702476</td>\n",
       "      <td>13.453554</td>\n",
       "      <td>Social_Media</td>\n",
       "      <td>Waxing_Gibbous</td>\n",
       "    </tr>\n",
       "    <tr>\n",
       "      <th>3</th>\n",
       "      <td>4</td>\n",
       "      <td>Susanetta</td>\n",
       "      <td>Annalise</td>\n",
       "      <td>1.727021</td>\n",
       "      <td>3.780898</td>\n",
       "      <td>Class</td>\n",
       "      <td>First_Quarter</td>\n",
       "    </tr>\n",
       "    <tr>\n",
       "      <th>4</th>\n",
       "      <td>5</td>\n",
       "      <td>Janeczka</td>\n",
       "      <td>Bobbe</td>\n",
       "      <td>5.539269</td>\n",
       "      <td>10.626012</td>\n",
       "      <td>At Work</td>\n",
       "      <td>New_Moon</td>\n",
       "    </tr>\n",
       "  </tbody>\n",
       "</table>\n",
       "</div>"
      ],
      "text/plain": [
       "   ID   Person A  Person B  Years of Knowing  Interaction Duration  \\\n",
       "0   1     Janaya  Nicolina          5.662542             14.863449   \n",
       "1   2       Nina  Rachelle          2.685942              3.002966   \n",
       "2   3    Deborah      Veda          4.702476             13.453554   \n",
       "3   4  Susanetta  Annalise          1.727021              3.780898   \n",
       "4   5   Janeczka     Bobbe          5.539269             10.626012   \n",
       "\n",
       "  Interaction Type Moon Phase During Interaction  \n",
       "0     Social_Media                      New_Moon  \n",
       "1            Class                Waxing_Cresent  \n",
       "2     Social_Media                Waxing_Gibbous  \n",
       "3            Class                 First_Quarter  \n",
       "4          At Work                      New_Moon  "
      ]
     },
     "execution_count": 4,
     "metadata": {},
     "output_type": "execute_result"
    }
   ],
   "source": [
    "testdf.head()"
   ]
  },
  {
   "cell_type": "code",
   "execution_count": 5,
   "metadata": {},
   "outputs": [
    {
     "data": {
      "text/html": [
       "<div>\n",
       "<style scoped>\n",
       "    .dataframe tbody tr th:only-of-type {\n",
       "        vertical-align: middle;\n",
       "    }\n",
       "\n",
       "    .dataframe tbody tr th {\n",
       "        vertical-align: top;\n",
       "    }\n",
       "\n",
       "    .dataframe thead th {\n",
       "        text-align: right;\n",
       "    }\n",
       "</style>\n",
       "<table border=\"1\" class=\"dataframe\">\n",
       "  <thead>\n",
       "    <tr style=\"text-align: right;\">\n",
       "      <th></th>\n",
       "      <th>ID</th>\n",
       "      <th>Friends</th>\n",
       "    </tr>\n",
       "  </thead>\n",
       "  <tbody>\n",
       "    <tr>\n",
       "      <th>0</th>\n",
       "      <td>1</td>\n",
       "      <td>0</td>\n",
       "    </tr>\n",
       "    <tr>\n",
       "      <th>1</th>\n",
       "      <td>2</td>\n",
       "      <td>0</td>\n",
       "    </tr>\n",
       "    <tr>\n",
       "      <th>2</th>\n",
       "      <td>3</td>\n",
       "      <td>0</td>\n",
       "    </tr>\n",
       "    <tr>\n",
       "      <th>3</th>\n",
       "      <td>4</td>\n",
       "      <td>0</td>\n",
       "    </tr>\n",
       "    <tr>\n",
       "      <th>4</th>\n",
       "      <td>5</td>\n",
       "      <td>0</td>\n",
       "    </tr>\n",
       "  </tbody>\n",
       "</table>\n",
       "</div>"
      ],
      "text/plain": [
       "   ID  Friends\n",
       "0   1        0\n",
       "1   2        0\n",
       "2   3        0\n",
       "3   4        0\n",
       "4   5        0"
      ]
     },
     "execution_count": 5,
     "metadata": {},
     "output_type": "execute_result"
    }
   ],
   "source": [
    "subdf.head()"
   ]
  },
  {
   "cell_type": "code",
   "execution_count": 6,
   "metadata": {},
   "outputs": [
    {
     "data": {
      "text/plain": [
       "ID                               0\n",
       "Person A                         0\n",
       "Person B                         0\n",
       "Years of Knowing                 0\n",
       "Interaction Duration             0\n",
       "Interaction Type                 0\n",
       "Moon Phase During Interaction    0\n",
       "Friends                          0\n",
       "dtype: int64"
      ]
     },
     "execution_count": 6,
     "metadata": {},
     "output_type": "execute_result"
    }
   ],
   "source": [
    "traindf.isna().sum()"
   ]
  },
  {
   "cell_type": "code",
   "execution_count": 7,
   "metadata": {},
   "outputs": [
    {
     "data": {
      "text/plain": [
       "ID                               0\n",
       "Person A                         0\n",
       "Person B                         0\n",
       "Years of Knowing                 0\n",
       "Interaction Duration             0\n",
       "Interaction Type                 0\n",
       "Moon Phase During Interaction    0\n",
       "dtype: int64"
      ]
     },
     "execution_count": 7,
     "metadata": {},
     "output_type": "execute_result"
    }
   ],
   "source": [
    "testdf.isna().sum()"
   ]
  },
  {
   "cell_type": "code",
   "execution_count": 8,
   "metadata": {},
   "outputs": [
    {
     "data": {
      "text/plain": [
       "(array([0, 1]), array([28125, 26572]))"
      ]
     },
     "execution_count": 8,
     "metadata": {},
     "output_type": "execute_result"
    }
   ],
   "source": [
    "np.unique(np.array(traindf[\"Friends\"]), return_counts=True)"
   ]
  },
  {
   "cell_type": "markdown",
   "metadata": {},
   "source": [
    "Heat Map"
   ]
  },
  {
   "cell_type": "code",
   "execution_count": 9,
   "metadata": {
    "scrolled": false
   },
   "outputs": [
    {
     "data": {
      "text/plain": [
       "<matplotlib.axes._subplots.AxesSubplot at 0x7f01b89080f0>"
      ]
     },
     "execution_count": 9,
     "metadata": {},
     "output_type": "execute_result"
    },
    {
     "data": {
      "image/png": "[encoded data removed]",
      "text/plain": [
       "<Figure size 432x288 with 2 Axes>"
      ]
     },
     "metadata": {
      "needs_background": "light"
     },
     "output_type": "display_data"
    }
   ],
   "source": [
    "sns.heatmap(traindf.corr(),center=0, cmap='coolwarm', annot=True)"
   ]
  },
  {
   "cell_type": "code",
   "execution_count": 10,
   "metadata": {},
   "outputs": [
    {
     "data": {
      "text/plain": [
       "array(['Class', 'At Work', 'Over a Meal', 'Social_Media', 'Party',\n",
       "       'In Passing'], dtype=object)"
      ]
     },
     "execution_count": 10,
     "metadata": {},
     "output_type": "execute_result"
    }
   ],
   "source": [
    "traindf[\"Interaction Type\"].unique()"
   ]
  },
  {
   "cell_type": "code",
   "execution_count": 11,
   "metadata": {},
   "outputs": [
    {
     "data": {
      "text/plain": [
       "array(['Waning_Gibbous', 'Waxing_Cresent', 'New_Moon', 'Waxing_Gibbous',\n",
       "       'First_Quarter', 'Third_Quarter', 'Full_Moon', 'Waning_Cresent'],\n",
       "      dtype=object)"
      ]
     },
     "execution_count": 11,
     "metadata": {},
     "output_type": "execute_result"
    }
   ],
   "source": [
    "traindf[\"Moon Phase During Interaction\"].unique()"
   ]
  },
  {
   "cell_type": "code",
   "execution_count": 12,
   "metadata": {},
   "outputs": [],
   "source": [
    "def process(df):\n",
    "    x = df[\"Years of Knowing\"].values\n",
    "    x = x.reshape(-1, 1)\n",
    "    x = StandardScaler().fit_transform(x)\n",
    "    df[\"Years of Knowing\"] = x\n",
    "\n",
    "    x = traindf[\"Interaction Duration\"].values\n",
    "    x = x.reshape(-1, 1)\n",
    "    x = StandardScaler().fit_transform(x)\n",
    "    df[\"Interaction Duration\"] = x\n",
    "    \n",
    "    df1 = pd.get_dummies(df[\"Interaction Type\"], drop_first=True)\n",
    "    df2 = pd.get_dummies(df[\"Moon Phase During Interaction\"], drop_first=True)\n",
    "    df3 = pd.concat([df1, df2], axis=1)\n",
    "    \n",
    "    df = pd.concat([df, df3], axis=1)\n",
    "    df = df.drop([\"Interaction Type\", \"Moon Phase During Interaction\"], axis=1)\n",
    "\n",
    "    return df"
   ]
  },
  {
   "cell_type": "code",
   "execution_count": 13,
   "metadata": {},
   "outputs": [
    {
     "data": {
      "text/html": [
       "<div>\n",
       "<style scoped>\n",
       "    .dataframe tbody tr th:only-of-type {\n",
       "        vertical-align: middle;\n",
       "    }\n",
       "\n",
       "    .dataframe tbody tr th {\n",
       "        vertical-align: top;\n",
       "    }\n",
       "\n",
       "    .dataframe thead th {\n",
       "        text-align: right;\n",
       "    }\n",
       "</style>\n",
       "<table border=\"1\" class=\"dataframe\">\n",
       "  <thead>\n",
       "    <tr style=\"text-align: right;\">\n",
       "      <th></th>\n",
       "      <th>ID</th>\n",
       "      <th>Person A</th>\n",
       "      <th>Person B</th>\n",
       "      <th>Years of Knowing</th>\n",
       "      <th>Interaction Duration</th>\n",
       "      <th>Friends</th>\n",
       "      <th>Class</th>\n",
       "      <th>In Passing</th>\n",
       "      <th>Over a Meal</th>\n",
       "      <th>Party</th>\n",
       "      <th>Social_Media</th>\n",
       "      <th>Full_Moon</th>\n",
       "      <th>New_Moon</th>\n",
       "      <th>Third_Quarter</th>\n",
       "      <th>Waning_Cresent</th>\n",
       "      <th>Waning_Gibbous</th>\n",
       "      <th>Waxing_Cresent</th>\n",
       "      <th>Waxing_Gibbous</th>\n",
       "    </tr>\n",
       "  </thead>\n",
       "  <tbody>\n",
       "    <tr>\n",
       "      <th>0</th>\n",
       "      <td>1</td>\n",
       "      <td>Alika</td>\n",
       "      <td>Alfie</td>\n",
       "      <td>-0.229589</td>\n",
       "      <td>0.382877</td>\n",
       "      <td>1</td>\n",
       "      <td>1</td>\n",
       "      <td>0</td>\n",
       "      <td>0</td>\n",
       "      <td>0</td>\n",
       "      <td>0</td>\n",
       "      <td>0</td>\n",
       "      <td>0</td>\n",
       "      <td>0</td>\n",
       "      <td>0</td>\n",
       "      <td>1</td>\n",
       "      <td>0</td>\n",
       "      <td>0</td>\n",
       "    </tr>\n",
       "    <tr>\n",
       "      <th>1</th>\n",
       "      <td>2</td>\n",
       "      <td>Pennie</td>\n",
       "      <td>Lolita</td>\n",
       "      <td>-0.538188</td>\n",
       "      <td>-0.647173</td>\n",
       "      <td>0</td>\n",
       "      <td>0</td>\n",
       "      <td>0</td>\n",
       "      <td>0</td>\n",
       "      <td>0</td>\n",
       "      <td>0</td>\n",
       "      <td>0</td>\n",
       "      <td>0</td>\n",
       "      <td>0</td>\n",
       "      <td>0</td>\n",
       "      <td>0</td>\n",
       "      <td>1</td>\n",
       "      <td>0</td>\n",
       "    </tr>\n",
       "    <tr>\n",
       "      <th>2</th>\n",
       "      <td>3</td>\n",
       "      <td>Crissy</td>\n",
       "      <td>Carree</td>\n",
       "      <td>-0.487790</td>\n",
       "      <td>-0.779580</td>\n",
       "      <td>0</td>\n",
       "      <td>0</td>\n",
       "      <td>0</td>\n",
       "      <td>1</td>\n",
       "      <td>0</td>\n",
       "      <td>0</td>\n",
       "      <td>0</td>\n",
       "      <td>1</td>\n",
       "      <td>0</td>\n",
       "      <td>0</td>\n",
       "      <td>0</td>\n",
       "      <td>0</td>\n",
       "      <td>0</td>\n",
       "    </tr>\n",
       "    <tr>\n",
       "      <th>3</th>\n",
       "      <td>4</td>\n",
       "      <td>Eyde</td>\n",
       "      <td>Karleen</td>\n",
       "      <td>-0.501450</td>\n",
       "      <td>-0.153301</td>\n",
       "      <td>0</td>\n",
       "      <td>0</td>\n",
       "      <td>0</td>\n",
       "      <td>0</td>\n",
       "      <td>0</td>\n",
       "      <td>1</td>\n",
       "      <td>0</td>\n",
       "      <td>0</td>\n",
       "      <td>0</td>\n",
       "      <td>0</td>\n",
       "      <td>0</td>\n",
       "      <td>0</td>\n",
       "      <td>1</td>\n",
       "    </tr>\n",
       "    <tr>\n",
       "      <th>4</th>\n",
       "      <td>5</td>\n",
       "      <td>Chrysa</td>\n",
       "      <td>Ludovika</td>\n",
       "      <td>0.886972</td>\n",
       "      <td>-0.214867</td>\n",
       "      <td>1</td>\n",
       "      <td>1</td>\n",
       "      <td>0</td>\n",
       "      <td>0</td>\n",
       "      <td>0</td>\n",
       "      <td>0</td>\n",
       "      <td>0</td>\n",
       "      <td>0</td>\n",
       "      <td>0</td>\n",
       "      <td>0</td>\n",
       "      <td>0</td>\n",
       "      <td>0</td>\n",
       "      <td>0</td>\n",
       "    </tr>\n",
       "  </tbody>\n",
       "</table>\n",
       "</div>"
      ],
      "text/plain": [
       "   ID Person A  Person B  Years of Knowing  Interaction Duration  Friends  \\\n",
       "0   1    Alika     Alfie         -0.229589              0.382877        1   \n",
       "1   2   Pennie    Lolita         -0.538188             -0.647173        0   \n",
       "2   3   Crissy    Carree         -0.487790             -0.779580        0   \n",
       "3   4     Eyde   Karleen         -0.501450             -0.153301        0   \n",
       "4   5   Chrysa  Ludovika          0.886972             -0.214867        1   \n",
       "\n",
       "   Class  In Passing  Over a Meal  Party  Social_Media  Full_Moon  New_Moon  \\\n",
       "0      1           0            0      0             0          0         0   \n",
       "1      0           0            0      0             0          0         0   \n",
       "2      0           0            1      0             0          0         1   \n",
       "3      0           0            0      0             1          0         0   \n",
       "4      1           0            0      0             0          0         0   \n",
       "\n",
       "   Third_Quarter  Waning_Cresent  Waning_Gibbous  Waxing_Cresent  \\\n",
       "0              0               0               1               0   \n",
       "1              0               0               0               1   \n",
       "2              0               0               0               0   \n",
       "3              0               0               0               0   \n",
       "4              0               0               0               0   \n",
       "\n",
       "   Waxing_Gibbous  \n",
       "0               0  \n",
       "1               0  \n",
       "2               0  \n",
       "3               1  \n",
       "4               0  "
      ]
     },
     "execution_count": 13,
     "metadata": {},
     "output_type": "execute_result"
    }
   ],
   "source": [
    "traindf = process(traindf)\n",
    "testdf = process(testdf)\n",
    "traindf.head()"
   ]
  },
  {
   "cell_type": "code",
   "execution_count": 14,
   "metadata": {},
   "outputs": [],
   "source": [
    "x = traindf.drop([\"ID\", \"Person A\", \"Person B\", \"Friends\"], axis=1).values\n",
    "y = traindf[\"Friends\"].values"
   ]
  },
  {
   "cell_type": "code",
   "execution_count": 15,
   "metadata": {},
   "outputs": [],
   "source": [
    "testX = testdf.drop([\"ID\", \"Person A\", \"Person B\"], axis=1).values"
   ]
  },
  {
   "cell_type": "code",
   "execution_count": 16,
   "metadata": {},
   "outputs": [
    {
     "name": "stdout",
     "output_type": "stream",
     "text": [
      "(array([0, 1]), array([25592, 29105]))\n",
      "Friends\n",
      "0    25592\n",
      "1    29105\n",
      "dtype: int64\n"
     ]
    }
   ],
   "source": [
    "from sklearn.svm import SVC\n",
    "svm = SVC(gamma='auto')\n",
    "svm.fit(x, y)\n",
    "print(svm.score(x, y))\n",
    "pred = svm.predict(testX)\n",
    "print(np.unique(np.array(pred), return_counts=True))\n",
    "subdf[\"Friends\"] = pred\n",
    "print(subdf.groupby([\"Friends\"]).size())\n",
    "subdf.to_csv(\"Submission1.csv\", index=False)"
   ]
  },
  {
   "cell_type": "code",
   "execution_count": 16,
   "metadata": {},
   "outputs": [
    {
     "name": "stdout",
     "output_type": "stream",
     "text": [
      "0.9159003236009288\n",
      "(array([0, 1]), array([26245, 28452]))\n",
      "Friends\n",
      "0    26245\n",
      "1    28452\n",
      "dtype: int64\n"
     ]
    }
   ],
   "source": [
    "from sklearn.linear_model import LogisticRegression\n",
    "lr = LogisticRegression()\n",
    "lr.fit(x, y)\n",
    "print(lr.score(x, y))\n",
    "pred = lr.predict(testX)\n",
    "print(np.unique(np.array(pred), return_counts=True))\n",
    "subdf[\"Friends\"] = pred\n",
    "print(subdf.groupby([\"Friends\"]).size())\n",
    "subdf.to_csv(\"Submission2.csv\", index=False)"
   ]
  }
 ],
 "metadata": {
  "kernelspec": {
   "display_name": "Python 3",
   "language": "python",
   "name": "python3"
  },
  "language_info": {
   "codemirror_mode": {
    "name": "ipython",
    "version": 3
   },
   "file_extension": ".py",
   "mimetype": "text/x-python",
   "name": "python",
   "nbconvert_exporter": "python",
   "pygments_lexer": "ipython3",
   "version": "3.7.3"
  }
 },
 "nbformat": 4,
 "nbformat_minor": 4
}
