{
 "cells": [
  {
   "cell_type": "code",
   "execution_count": 1,
   "metadata": {
    "scrolled": true
   },
   "outputs": [
    {
     "name": "stderr",
     "output_type": "stream",
     "text": [
      "Using TensorFlow backend.\n"
     ]
    }
   ],
   "source": [
    "import warnings\n",
    "warnings.simplefilter('ignore')\n",
    "\n",
    "import pandas as pd\n",
    "import numpy as np\n",
    "import seaborn as sns\n",
    "\n",
    "from sklearn.preprocessing import LabelEncoder, StandardScaler\n",
    "from sklearn.model_selection import cross_val_score\n",
    "\n",
    "from sklearn.linear_model import LogisticRegression\n",
    "from sklearn.ensemble import RandomForestClassifier\n",
    "from sklearn.svm import SVC\n",
    "from sklearn.naive_bayes import GaussianNB \n",
    "import xgboost as xgb\n",
    "\n",
    "from keras.models import Sequential\n",
    "from keras.layers import Dense, Activation, Dropout\n",
    "from tensorflow.keras.utils import to_categorical"
   ]
  },
  {
   "cell_type": "markdown",
   "metadata": {},
   "source": [
    "# Done to check 1.0 notebook"
   ]
  },
  {
   "cell_type": "code",
   "execution_count": 2,
   "metadata": {},
   "outputs": [],
   "source": [
    "traindf = pd.read_csv(\"train.csv\")\n",
    "testdf = pd.read_csv(\"test.csv\")\n",
    "subdf = pd.read_csv(\"sample_submission.csv\")"
   ]
  },
  {
   "cell_type": "code",
   "execution_count": 3,
   "metadata": {},
   "outputs": [
    {
     "data": {
      "text/html": [
       "<div>\n",
       "<style scoped>\n",
       "    .dataframe tbody tr th:only-of-type {\n",
       "        vertical-align: middle;\n",
       "    }\n",
       "\n",
       "    .dataframe tbody tr th {\n",
       "        vertical-align: top;\n",
       "    }\n",
       "\n",
       "    .dataframe thead th {\n",
       "        text-align: right;\n",
       "    }\n",
       "</style>\n",
       "<table border=\"1\" class=\"dataframe\">\n",
       "  <thead>\n",
       "    <tr style=\"text-align: right;\">\n",
       "      <th></th>\n",
       "      <th>ID</th>\n",
       "      <th>Person A</th>\n",
       "      <th>Person B</th>\n",
       "      <th>Years of Knowing</th>\n",
       "      <th>Interaction Duration</th>\n",
       "      <th>Interaction Type</th>\n",
       "      <th>Moon Phase During Interaction</th>\n",
       "      <th>Friends</th>\n",
       "    </tr>\n",
       "  </thead>\n",
       "  <tbody>\n",
       "    <tr>\n",
       "      <th>0</th>\n",
       "      <td>1</td>\n",
       "      <td>Alika</td>\n",
       "      <td>Alfie</td>\n",
       "      <td>3.876560</td>\n",
       "      <td>13.035115</td>\n",
       "      <td>Class</td>\n",
       "      <td>Waning_Gibbous</td>\n",
       "      <td>1</td>\n",
       "    </tr>\n",
       "    <tr>\n",
       "      <th>1</th>\n",
       "      <td>2</td>\n",
       "      <td>Pennie</td>\n",
       "      <td>Lolita</td>\n",
       "      <td>2.836218</td>\n",
       "      <td>5.811429</td>\n",
       "      <td>At Work</td>\n",
       "      <td>Waxing_Cresent</td>\n",
       "      <td>0</td>\n",
       "    </tr>\n",
       "    <tr>\n",
       "      <th>2</th>\n",
       "      <td>3</td>\n",
       "      <td>Crissy</td>\n",
       "      <td>Carree</td>\n",
       "      <td>3.006119</td>\n",
       "      <td>4.882863</td>\n",
       "      <td>Over a Meal</td>\n",
       "      <td>New_Moon</td>\n",
       "      <td>0</td>\n",
       "    </tr>\n",
       "    <tr>\n",
       "      <th>3</th>\n",
       "      <td>4</td>\n",
       "      <td>Eyde</td>\n",
       "      <td>Karleen</td>\n",
       "      <td>2.960067</td>\n",
       "      <td>9.274924</td>\n",
       "      <td>Social_Media</td>\n",
       "      <td>Waxing_Gibbous</td>\n",
       "      <td>0</td>\n",
       "    </tr>\n",
       "    <tr>\n",
       "      <th>4</th>\n",
       "      <td>5</td>\n",
       "      <td>Chrysa</td>\n",
       "      <td>Ludovika</td>\n",
       "      <td>7.640688</td>\n",
       "      <td>8.843167</td>\n",
       "      <td>Class</td>\n",
       "      <td>First_Quarter</td>\n",
       "      <td>1</td>\n",
       "    </tr>\n",
       "  </tbody>\n",
       "</table>\n",
       "</div>"
      ],
      "text/plain": [
       "   ID Person A  Person B  Years of Knowing  Interaction Duration  \\\n",
       "0   1    Alika     Alfie          3.876560             13.035115   \n",
       "1   2   Pennie    Lolita          2.836218              5.811429   \n",
       "2   3   Crissy    Carree          3.006119              4.882863   \n",
       "3   4     Eyde   Karleen          2.960067              9.274924   \n",
       "4   5   Chrysa  Ludovika          7.640688              8.843167   \n",
       "\n",
       "  Interaction Type Moon Phase During Interaction  Friends  \n",
       "0            Class                Waning_Gibbous        1  \n",
       "1          At Work                Waxing_Cresent        0  \n",
       "2      Over a Meal                      New_Moon        0  \n",
       "3     Social_Media                Waxing_Gibbous        0  \n",
       "4            Class                 First_Quarter        1  "
      ]
     },
     "execution_count": 3,
     "metadata": {},
     "output_type": "execute_result"
    }
   ],
   "source": [
    "traindf.head()"
   ]
  },
  {
   "cell_type": "code",
   "execution_count": 4,
   "metadata": {},
   "outputs": [
    {
     "data": {
      "text/html": [
       "<div>\n",
       "<style scoped>\n",
       "    .dataframe tbody tr th:only-of-type {\n",
       "        vertical-align: middle;\n",
       "    }\n",
       "\n",
       "    .dataframe tbody tr th {\n",
       "        vertical-align: top;\n",
       "    }\n",
       "\n",
       "    .dataframe thead th {\n",
       "        text-align: right;\n",
       "    }\n",
       "</style>\n",
       "<table border=\"1\" class=\"dataframe\">\n",
       "  <thead>\n",
       "    <tr style=\"text-align: right;\">\n",
       "      <th></th>\n",
       "      <th>Person A</th>\n",
       "      <th>Person B</th>\n",
       "      <th>Interaction Count</th>\n",
       "    </tr>\n",
       "  </thead>\n",
       "  <tbody>\n",
       "    <tr>\n",
       "      <th>0</th>\n",
       "      <td>Addia</td>\n",
       "      <td>Agneta</td>\n",
       "      <td>3</td>\n",
       "    </tr>\n",
       "    <tr>\n",
       "      <th>1</th>\n",
       "      <td>Addia</td>\n",
       "      <td>Alejandra</td>\n",
       "      <td>7</td>\n",
       "    </tr>\n",
       "    <tr>\n",
       "      <th>2</th>\n",
       "      <td>Addia</td>\n",
       "      <td>Alfie</td>\n",
       "      <td>9</td>\n",
       "    </tr>\n",
       "    <tr>\n",
       "      <th>3</th>\n",
       "      <td>Addia</td>\n",
       "      <td>Alicea</td>\n",
       "      <td>9</td>\n",
       "    </tr>\n",
       "    <tr>\n",
       "      <th>4</th>\n",
       "      <td>Addia</td>\n",
       "      <td>Alicia</td>\n",
       "      <td>9</td>\n",
       "    </tr>\n",
       "  </tbody>\n",
       "</table>\n",
       "</div>"
      ],
      "text/plain": [
       "  Person A   Person B  Interaction Count\n",
       "0    Addia     Agneta                  3\n",
       "1    Addia  Alejandra                  7\n",
       "2    Addia      Alfie                  9\n",
       "3    Addia     Alicea                  9\n",
       "4    Addia     Alicia                  9"
      ]
     },
     "execution_count": 4,
     "metadata": {},
     "output_type": "execute_result"
    }
   ],
   "source": [
    "aggTrain = traindf.groupby(['Person A', 'Person B'])['Interaction Type'].count().reset_index()\n",
    "aggTrain = aggTrain.rename({\"Interaction Type\" : \"Interaction Count\"}, axis=1)\n",
    "aggTrain.head()"
   ]
  },
  {
   "cell_type": "code",
   "execution_count": 5,
   "metadata": {},
   "outputs": [
    {
     "data": {
      "text/html": [
       "<div>\n",
       "<style scoped>\n",
       "    .dataframe tbody tr th:only-of-type {\n",
       "        vertical-align: middle;\n",
       "    }\n",
       "\n",
       "    .dataframe tbody tr th {\n",
       "        vertical-align: top;\n",
       "    }\n",
       "\n",
       "    .dataframe thead th {\n",
       "        text-align: right;\n",
       "    }\n",
       "</style>\n",
       "<table border=\"1\" class=\"dataframe\">\n",
       "  <thead>\n",
       "    <tr style=\"text-align: right;\">\n",
       "      <th></th>\n",
       "      <th>ID</th>\n",
       "      <th>Person A</th>\n",
       "      <th>Person B</th>\n",
       "      <th>Years of Knowing</th>\n",
       "      <th>Interaction Duration</th>\n",
       "      <th>Interaction Type</th>\n",
       "      <th>Moon Phase During Interaction</th>\n",
       "      <th>Friends</th>\n",
       "      <th>Interaction Count</th>\n",
       "    </tr>\n",
       "  </thead>\n",
       "  <tbody>\n",
       "    <tr>\n",
       "      <th>0</th>\n",
       "      <td>1</td>\n",
       "      <td>Alika</td>\n",
       "      <td>Alfie</td>\n",
       "      <td>3.876560</td>\n",
       "      <td>13.035115</td>\n",
       "      <td>Class</td>\n",
       "      <td>Waning_Gibbous</td>\n",
       "      <td>1</td>\n",
       "      <td>8</td>\n",
       "    </tr>\n",
       "    <tr>\n",
       "      <th>1</th>\n",
       "      <td>2</td>\n",
       "      <td>Pennie</td>\n",
       "      <td>Lolita</td>\n",
       "      <td>2.836218</td>\n",
       "      <td>5.811429</td>\n",
       "      <td>At Work</td>\n",
       "      <td>Waxing_Cresent</td>\n",
       "      <td>0</td>\n",
       "      <td>5</td>\n",
       "    </tr>\n",
       "    <tr>\n",
       "      <th>2</th>\n",
       "      <td>3</td>\n",
       "      <td>Crissy</td>\n",
       "      <td>Carree</td>\n",
       "      <td>3.006119</td>\n",
       "      <td>4.882863</td>\n",
       "      <td>Over a Meal</td>\n",
       "      <td>New_Moon</td>\n",
       "      <td>0</td>\n",
       "      <td>6</td>\n",
       "    </tr>\n",
       "    <tr>\n",
       "      <th>3</th>\n",
       "      <td>4</td>\n",
       "      <td>Eyde</td>\n",
       "      <td>Karleen</td>\n",
       "      <td>2.960067</td>\n",
       "      <td>9.274924</td>\n",
       "      <td>Social_Media</td>\n",
       "      <td>Waxing_Gibbous</td>\n",
       "      <td>0</td>\n",
       "      <td>7</td>\n",
       "    </tr>\n",
       "    <tr>\n",
       "      <th>4</th>\n",
       "      <td>5</td>\n",
       "      <td>Chrysa</td>\n",
       "      <td>Ludovika</td>\n",
       "      <td>7.640688</td>\n",
       "      <td>8.843167</td>\n",
       "      <td>Class</td>\n",
       "      <td>First_Quarter</td>\n",
       "      <td>1</td>\n",
       "      <td>9</td>\n",
       "    </tr>\n",
       "  </tbody>\n",
       "</table>\n",
       "</div>"
      ],
      "text/plain": [
       "   ID Person A  Person B  Years of Knowing  Interaction Duration  \\\n",
       "0   1    Alika     Alfie          3.876560             13.035115   \n",
       "1   2   Pennie    Lolita          2.836218              5.811429   \n",
       "2   3   Crissy    Carree          3.006119              4.882863   \n",
       "3   4     Eyde   Karleen          2.960067              9.274924   \n",
       "4   5   Chrysa  Ludovika          7.640688              8.843167   \n",
       "\n",
       "  Interaction Type Moon Phase During Interaction  Friends  Interaction Count  \n",
       "0            Class                Waning_Gibbous        1                  8  \n",
       "1          At Work                Waxing_Cresent        0                  5  \n",
       "2      Over a Meal                      New_Moon        0                  6  \n",
       "3     Social_Media                Waxing_Gibbous        0                  7  \n",
       "4            Class                 First_Quarter        1                  9  "
      ]
     },
     "execution_count": 5,
     "metadata": {},
     "output_type": "execute_result"
    }
   ],
   "source": [
    "traindf = pd.merge(traindf, aggTrain, on=['Person A', 'Person B'], how='left')\n",
    "traindf.head()"
   ]
  },
  {
   "cell_type": "code",
   "execution_count": 6,
   "metadata": {},
   "outputs": [
    {
     "data": {
      "text/plain": [
       "<seaborn.axisgrid.FacetGrid at 0x7fda9d51d588>"
      ]
     },
     "execution_count": 6,
     "metadata": {},
     "output_type": "execute_result"
    },
    {
     "data": {
      "image/png": "[encoded data removed]",
      "text/plain": [
       "<Figure size 360x360 with 1 Axes>"
      ]
     },
     "metadata": {
      "needs_background": "light"
     },
     "output_type": "display_data"
    }
   ],
   "source": [
    "sns.lmplot(\"Interaction Count\", \"Friends\", data=traindf, fit_reg=False)"
   ]
  },
  {
   "cell_type": "code",
   "execution_count": 7,
   "metadata": {},
   "outputs": [
    {
     "name": "stdout",
     "output_type": "stream",
     "text": [
      "3.4540605682545427 12.683241387293384\n",
      "5.011774977267526 12.824876135733414\n",
      "3.324446242178285 5.638068567470688\n",
      "3.0149202306384604 5.4648915100812765\n",
      "4.6641993529392884 4.749711220416327\n",
      "1.570756578706891 8.091039205556825\n",
      "2.7895499202474183 7.637868126579278\n"
     ]
    },
    {
     "data": {
      "text/plain": [
       "7"
      ]
     },
     "execution_count": 7,
     "metadata": {},
     "output_type": "execute_result"
    }
   ],
   "source": [
    "ct=0\n",
    "for i in range(len(traindf)):\n",
    "    if(traindf[\"Person A\"][i] == \"Addia\" and traindf[\"Person B\"][i] == \"Alejandra\"):\n",
    "        ct=ct+1\n",
    "        print(traindf[\"Years of Knowing\"][i], traindf[\"Interaction Duration\"][i])\n",
    "ct"
   ]
  },
  {
   "cell_type": "markdown",
   "metadata": {},
   "source": [
    "# Code"
   ]
  },
  {
   "cell_type": "code",
   "execution_count": 8,
   "metadata": {},
   "outputs": [],
   "source": [
    "traindf = pd.read_csv(\"train.csv\", usecols=['Years of Knowing', 'Interaction Duration', 'Friends'])\n",
    "testdf = pd.read_csv(\"test.csv\", usecols=['Years of Knowing', 'Interaction Duration'])\n",
    "subdf = pd.read_csv(\"sample_submission.csv\")"
   ]
  },
  {
   "cell_type": "code",
   "execution_count": 9,
   "metadata": {},
   "outputs": [
    {
     "data": {
      "text/html": [
       "<div>\n",
       "<style scoped>\n",
       "    .dataframe tbody tr th:only-of-type {\n",
       "        vertical-align: middle;\n",
       "    }\n",
       "\n",
       "    .dataframe tbody tr th {\n",
       "        vertical-align: top;\n",
       "    }\n",
       "\n",
       "    .dataframe thead th {\n",
       "        text-align: right;\n",
       "    }\n",
       "</style>\n",
       "<table border=\"1\" class=\"dataframe\">\n",
       "  <thead>\n",
       "    <tr style=\"text-align: right;\">\n",
       "      <th></th>\n",
       "      <th>Years of Knowing</th>\n",
       "      <th>Interaction Duration</th>\n",
       "      <th>Friends</th>\n",
       "    </tr>\n",
       "  </thead>\n",
       "  <tbody>\n",
       "    <tr>\n",
       "      <th>0</th>\n",
       "      <td>3.876560</td>\n",
       "      <td>13.035115</td>\n",
       "      <td>1</td>\n",
       "    </tr>\n",
       "    <tr>\n",
       "      <th>1</th>\n",
       "      <td>2.836218</td>\n",
       "      <td>5.811429</td>\n",
       "      <td>0</td>\n",
       "    </tr>\n",
       "    <tr>\n",
       "      <th>2</th>\n",
       "      <td>3.006119</td>\n",
       "      <td>4.882863</td>\n",
       "      <td>0</td>\n",
       "    </tr>\n",
       "    <tr>\n",
       "      <th>3</th>\n",
       "      <td>2.960067</td>\n",
       "      <td>9.274924</td>\n",
       "      <td>0</td>\n",
       "    </tr>\n",
       "    <tr>\n",
       "      <th>4</th>\n",
       "      <td>7.640688</td>\n",
       "      <td>8.843167</td>\n",
       "      <td>1</td>\n",
       "    </tr>\n",
       "  </tbody>\n",
       "</table>\n",
       "</div>"
      ],
      "text/plain": [
       "   Years of Knowing  Interaction Duration  Friends\n",
       "0          3.876560             13.035115        1\n",
       "1          2.836218              5.811429        0\n",
       "2          3.006119              4.882863        0\n",
       "3          2.960067              9.274924        0\n",
       "4          7.640688              8.843167        1"
      ]
     },
     "execution_count": 9,
     "metadata": {},
     "output_type": "execute_result"
    }
   ],
   "source": [
    "traindf.head()"
   ]
  },
  {
   "cell_type": "code",
   "execution_count": 10,
   "metadata": {},
   "outputs": [
    {
     "data": {
      "text/html": [
       "<div>\n",
       "<style scoped>\n",
       "    .dataframe tbody tr th:only-of-type {\n",
       "        vertical-align: middle;\n",
       "    }\n",
       "\n",
       "    .dataframe tbody tr th {\n",
       "        vertical-align: top;\n",
       "    }\n",
       "\n",
       "    .dataframe thead th {\n",
       "        text-align: right;\n",
       "    }\n",
       "</style>\n",
       "<table border=\"1\" class=\"dataframe\">\n",
       "  <thead>\n",
       "    <tr style=\"text-align: right;\">\n",
       "      <th></th>\n",
       "      <th>Years of Knowing</th>\n",
       "      <th>Interaction Duration</th>\n",
       "    </tr>\n",
       "  </thead>\n",
       "  <tbody>\n",
       "    <tr>\n",
       "      <th>0</th>\n",
       "      <td>5.662542</td>\n",
       "      <td>14.863449</td>\n",
       "    </tr>\n",
       "    <tr>\n",
       "      <th>1</th>\n",
       "      <td>2.685942</td>\n",
       "      <td>3.002966</td>\n",
       "    </tr>\n",
       "    <tr>\n",
       "      <th>2</th>\n",
       "      <td>4.702476</td>\n",
       "      <td>13.453554</td>\n",
       "    </tr>\n",
       "    <tr>\n",
       "      <th>3</th>\n",
       "      <td>1.727021</td>\n",
       "      <td>3.780898</td>\n",
       "    </tr>\n",
       "    <tr>\n",
       "      <th>4</th>\n",
       "      <td>5.539269</td>\n",
       "      <td>10.626012</td>\n",
       "    </tr>\n",
       "  </tbody>\n",
       "</table>\n",
       "</div>"
      ],
      "text/plain": [
       "   Years of Knowing  Interaction Duration\n",
       "0          5.662542             14.863449\n",
       "1          2.685942              3.002966\n",
       "2          4.702476             13.453554\n",
       "3          1.727021              3.780898\n",
       "4          5.539269             10.626012"
      ]
     },
     "execution_count": 10,
     "metadata": {},
     "output_type": "execute_result"
    }
   ],
   "source": [
    "testdf.head()"
   ]
  },
  {
   "cell_type": "code",
   "execution_count": 11,
   "metadata": {},
   "outputs": [
    {
     "data": {
      "text/html": [
       "<div>\n",
       "<style scoped>\n",
       "    .dataframe tbody tr th:only-of-type {\n",
       "        vertical-align: middle;\n",
       "    }\n",
       "\n",
       "    .dataframe tbody tr th {\n",
       "        vertical-align: top;\n",
       "    }\n",
       "\n",
       "    .dataframe thead th {\n",
       "        text-align: right;\n",
       "    }\n",
       "</style>\n",
       "<table border=\"1\" class=\"dataframe\">\n",
       "  <thead>\n",
       "    <tr style=\"text-align: right;\">\n",
       "      <th></th>\n",
       "      <th>ID</th>\n",
       "      <th>Friends</th>\n",
       "    </tr>\n",
       "  </thead>\n",
       "  <tbody>\n",
       "    <tr>\n",
       "      <th>0</th>\n",
       "      <td>1</td>\n",
       "      <td>0</td>\n",
       "    </tr>\n",
       "    <tr>\n",
       "      <th>1</th>\n",
       "      <td>2</td>\n",
       "      <td>0</td>\n",
       "    </tr>\n",
       "    <tr>\n",
       "      <th>2</th>\n",
       "      <td>3</td>\n",
       "      <td>0</td>\n",
       "    </tr>\n",
       "    <tr>\n",
       "      <th>3</th>\n",
       "      <td>4</td>\n",
       "      <td>0</td>\n",
       "    </tr>\n",
       "    <tr>\n",
       "      <th>4</th>\n",
       "      <td>5</td>\n",
       "      <td>0</td>\n",
       "    </tr>\n",
       "  </tbody>\n",
       "</table>\n",
       "</div>"
      ],
      "text/plain": [
       "   ID  Friends\n",
       "0   1        0\n",
       "1   2        0\n",
       "2   3        0\n",
       "3   4        0\n",
       "4   5        0"
      ]
     },
     "execution_count": 11,
     "metadata": {},
     "output_type": "execute_result"
    }
   ],
   "source": [
    "subdf.head()"
   ]
  },
  {
   "cell_type": "code",
   "execution_count": 12,
   "metadata": {},
   "outputs": [
    {
     "data": {
      "text/plain": [
       "Years of Knowing        0\n",
       "Interaction Duration    0\n",
       "Friends                 0\n",
       "dtype: int64"
      ]
     },
     "execution_count": 12,
     "metadata": {},
     "output_type": "execute_result"
    }
   ],
   "source": [
    "traindf.isna().sum()"
   ]
  },
  {
   "cell_type": "code",
   "execution_count": 13,
   "metadata": {},
   "outputs": [
    {
     "data": {
      "text/plain": [
       "Years of Knowing        0\n",
       "Interaction Duration    0\n",
       "dtype: int64"
      ]
     },
     "execution_count": 13,
     "metadata": {},
     "output_type": "execute_result"
    }
   ],
   "source": [
    "testdf.isna().sum()"
   ]
  },
  {
   "cell_type": "code",
   "execution_count": 14,
   "metadata": {},
   "outputs": [
    {
     "data": {
      "text/plain": [
       "(array([0, 1]), array([28125, 26572]))"
      ]
     },
     "execution_count": 14,
     "metadata": {},
     "output_type": "execute_result"
    }
   ],
   "source": [
    "np.unique(np.array(traindf[\"Friends\"]), return_counts=True)"
   ]
  },
  {
   "cell_type": "markdown",
   "metadata": {},
   "source": [
    "Heat Map"
   ]
  },
  {
   "cell_type": "code",
   "execution_count": 15,
   "metadata": {
    "scrolled": false
   },
   "outputs": [
    {
     "data": {
      "text/plain": [
       "<matplotlib.axes._subplots.AxesSubplot at 0x7fda99beccf8>"
      ]
     },
     "execution_count": 15,
     "metadata": {},
     "output_type": "execute_result"
    },
    {
     "data": {
      "image/png": "[encoded data removed]",
      "text/plain": [
       "<Figure size 432x288 with 2 Axes>"
      ]
     },
     "metadata": {
      "needs_background": "light"
     },
     "output_type": "display_data"
    }
   ],
   "source": [
    "sns.heatmap(traindf.corr(),center=0, cmap='coolwarm', annot=True)"
   ]
  },
  {
   "cell_type": "code",
   "execution_count": 16,
   "metadata": {},
   "outputs": [
    {
     "data": {
      "text/plain": [
       "<matplotlib.axes._subplots.AxesSubplot at 0x7fda996f9b38>"
      ]
     },
     "execution_count": 16,
     "metadata": {},
     "output_type": "execute_result"
    },
    {
     "data": {
      "image/png": "[encoded data removed]",
      "text/plain": [
       "<Figure size 432x288 with 2 Axes>"
      ]
     },
     "metadata": {
      "needs_background": "light"
     },
     "output_type": "display_data"
    }
   ],
   "source": [
    "sns.heatmap(testdf.corr(),center=0, cmap='coolwarm', annot=True)"
   ]
  },
  {
   "cell_type": "code",
   "execution_count": 17,
   "metadata": {},
   "outputs": [],
   "source": [
    "#traindf[\"Interaction Type\"].unique()"
   ]
  },
  {
   "cell_type": "code",
   "execution_count": 18,
   "metadata": {},
   "outputs": [],
   "source": [
    "#traindf[\"Moon Phase During Interaction\"].unique()"
   ]
  },
  {
   "cell_type": "code",
   "execution_count": 19,
   "metadata": {},
   "outputs": [],
   "source": [
    "def process(df):\n",
    "    x = (df[[\"Years of Knowing\", \"Interaction Duration\"]].values)#.reshape(-1, 1))\n",
    "    x = StandardScaler().fit_transform(x)\n",
    "    \n",
    "    '''df1 = pd.get_dummies(df[\"Interaction Type\"], drop_first=True)\n",
    "    df2 = pd.get_dummies(df[\"Moon Phase During Interaction\"], drop_first=True)\n",
    "    df3 = pd.concat([df1, df2], axis=1)\n",
    "    \n",
    "    df = pd.concat([df, df3], axis=1)\n",
    "    df = df.drop([\"Interaction Type\", \"Moon Phase During Interaction\"], axis=1)'''\n",
    "\n",
    "    return x"
   ]
  },
  {
   "cell_type": "code",
   "execution_count": 20,
   "metadata": {},
   "outputs": [
    {
     "data": {
      "text/plain": [
       "((54697, 2), (54697, 2))"
      ]
     },
     "execution_count": 20,
     "metadata": {},
     "output_type": "execute_result"
    }
   ],
   "source": [
    "x = process(traindf)\n",
    "testX = process(testdf)\n",
    "y = traindf.Friends.values\n",
    "\n",
    "x.shape, testX.shape"
   ]
  },
  {
   "cell_type": "code",
   "execution_count": 21,
   "metadata": {},
   "outputs": [
    {
     "name": "stdout",
     "output_type": "stream",
     "text": [
      "Baseliner Models\n",
      "\n",
      "Model Name \t |   CV\n",
      "------------------------\n",
      "LogisticRegr \t | 0.9157 \t\n",
      "RandomForest \t | 0.9061 \t\n",
      "GaussianNB \t | 0.9110 \t\n",
      "SVC \t | 0.9170 \t\n",
      "XGBClassifie \t | 0.9151 \t\n"
     ]
    }
   ],
   "source": [
    "def baseliner(x, y, cv=3, metric='accuracy'):\n",
    "    print(\"Baseliner Models\\n\")\n",
    "    eval_dict = {}\n",
    "    models = [LogisticRegression(), RandomForestClassifier(), GaussianNB(), SVC(gamma='auto'), xgb.XGBClassifier()]\n",
    "    print(\"Model Name \\t |   CV\")\n",
    "    print(\"------------------------\")\n",
    "\n",
    "    for index, model in enumerate(models, 0):\n",
    "        model_name = str(model).split(\"(\")[0]\n",
    "        eval_dict[model_name] = {}\n",
    "\n",
    "        results = cross_val_score(model, x, y, cv=cv, scoring=metric)\n",
    "        eval_dict[model_name]['cv'] = results.mean()\n",
    "\n",
    "        print(\"%s \\t | %.4f \\t\" % (model_name[:12], eval_dict[model_name]['cv']))\n",
    "        \n",
    "baseliner(x, y)"
   ]
  },
  {
   "cell_type": "code",
   "execution_count": 22,
   "metadata": {
    "scrolled": true
   },
   "outputs": [
    {
     "name": "stdout",
     "output_type": "stream",
     "text": [
      "WARNING:tensorflow:From /home/aman/.local/lib/python3.7/site-packages/keras/backend/tensorflow_backend.py:422: The name tf.global_variables is deprecated. Please use tf.compat.v1.global_variables instead.\n",
      "\n",
      "Train on 43757 samples, validate on 10940 samples\n",
      "Epoch 1/20\n",
      "43757/43757 [==============================] - 3s 61us/step - loss: 0.1872 - accuracy: 0.9093 - val_loss: 0.1573 - val_accuracy: 0.9152\n",
      "Epoch 2/20\n",
      "43757/43757 [==============================] - 2s 56us/step - loss: 0.1590 - accuracy: 0.9161 - val_loss: 0.1556 - val_accuracy: 0.9152\n",
      "Epoch 3/20\n",
      "43757/43757 [==============================] - 2s 54us/step - loss: 0.1563 - accuracy: 0.9169 - val_loss: 0.1522 - val_accuracy: 0.9151\n",
      "Epoch 4/20\n",
      "43757/43757 [==============================] - 3s 59us/step - loss: 0.1556 - accuracy: 0.9164 - val_loss: 0.1551 - val_accuracy: 0.9143\n",
      "Epoch 5/20\n",
      "43757/43757 [==============================] - 2s 56us/step - loss: 0.1552 - accuracy: 0.9164 - val_loss: 0.1545 - val_accuracy: 0.9143\n",
      "Epoch 6/20\n",
      "43757/43757 [==============================] - 3s 62us/step - loss: 0.1542 - accuracy: 0.9172 - val_loss: 0.1528 - val_accuracy: 0.9145\n",
      "Epoch 7/20\n",
      "43757/43757 [==============================] - 3s 59us/step - loss: 0.1536 - accuracy: 0.9169 - val_loss: 0.1529 - val_accuracy: 0.9158\n",
      "Epoch 8/20\n",
      "43757/43757 [==============================] - 2s 55us/step - loss: 0.1533 - accuracy: 0.9179 - val_loss: 0.1534 - val_accuracy: 0.9139\n",
      "Epoch 9/20\n",
      "43757/43757 [==============================] - 3s 64us/step - loss: 0.1527 - accuracy: 0.9169 - val_loss: 0.1509 - val_accuracy: 0.9154\n",
      "Epoch 10/20\n",
      "43757/43757 [==============================] - 3s 73us/step - loss: 0.1532 - accuracy: 0.9174 - val_loss: 0.1531 - val_accuracy: 0.9151\n",
      "Epoch 11/20\n",
      "43757/43757 [==============================] - 3s 72us/step - loss: 0.1521 - accuracy: 0.9173 - val_loss: 0.1508 - val_accuracy: 0.9148\n",
      "Epoch 12/20\n",
      "43757/43757 [==============================] - 3s 68us/step - loss: 0.1522 - accuracy: 0.9176 - val_loss: 0.1573 - val_accuracy: 0.9148\n",
      "Epoch 13/20\n",
      "43757/43757 [==============================] - 3s 67us/step - loss: 0.1519 - accuracy: 0.9174 - val_loss: 0.1523 - val_accuracy: 0.9142\n",
      "Epoch 14/20\n",
      "43757/43757 [==============================] - 3s 61us/step - loss: 0.1523 - accuracy: 0.9176 - val_loss: 0.1502 - val_accuracy: 0.9165\n",
      "Epoch 15/20\n",
      "43757/43757 [==============================] - 3s 60us/step - loss: 0.1518 - accuracy: 0.9175 - val_loss: 0.1506 - val_accuracy: 0.9153\n",
      "Epoch 16/20\n",
      "43757/43757 [==============================] - 3s 63us/step - loss: 0.1522 - accuracy: 0.9177 - val_loss: 0.1503 - val_accuracy: 0.9151\n",
      "Epoch 17/20\n",
      "43757/43757 [==============================] - 3s 60us/step - loss: 0.1517 - accuracy: 0.9176 - val_loss: 0.1565 - val_accuracy: 0.9145\n",
      "Epoch 18/20\n",
      "43757/43757 [==============================] - 3s 59us/step - loss: 0.1512 - accuracy: 0.9173 - val_loss: 0.1502 - val_accuracy: 0.9156\n",
      "Epoch 19/20\n",
      "43757/43757 [==============================] - 3s 58us/step - loss: 0.1516 - accuracy: 0.9174 - val_loss: 0.1492 - val_accuracy: 0.9164\n",
      "Epoch 20/20\n",
      "43757/43757 [==============================] - 3s 58us/step - loss: 0.1520 - accuracy: 0.9172 - val_loss: 0.1514 - val_accuracy: 0.9151\n"
     ]
    },
    {
     "data": {
      "text/plain": [
       "<keras.callbacks.callbacks.History at 0x7fda96ce5c18>"
      ]
     },
     "execution_count": 22,
     "metadata": {},
     "output_type": "execute_result"
    }
   ],
   "source": [
    "model = Sequential()\n",
    "model.add(Dense(128, activation = 'relu', input_shape = x[0].shape))\n",
    "model.add(Dense(64, activation='relu'))\n",
    "model.add(Dropout(0.2))\n",
    "\n",
    "model.add(Dense(32, activation='relu'))\n",
    "model.add(Dense(16, activation='relu'))\n",
    "model.add(Dropout(0.2))\n",
    "\n",
    "model.add(Dense(32, activation='relu'))\n",
    "model.add(Dense(16, activation='relu'))\n",
    "model.add(Dropout(0.2))\n",
    "\n",
    "model.add(Dense(2, activation='softmax'))\n",
    "model.compile(optimizer='Adam', loss='categorical_crossentropy', metrics=['accuracy'])\n",
    "model.fit(x, to_categorical(y), epochs=20, validation_split=0.2)"
   ]
  },
  {
   "cell_type": "code",
   "execution_count": 23,
   "metadata": {},
   "outputs": [
    {
     "data": {
      "text/plain": [
       "0.915790628370843"
      ]
     },
     "execution_count": 23,
     "metadata": {},
     "output_type": "execute_result"
    }
   ],
   "source": [
    "lr = LogisticRegression()\n",
    "lr.fit(x,y)\n",
    "lr.score(x, y)"
   ]
  },
  {
   "cell_type": "code",
   "execution_count": 24,
   "metadata": {},
   "outputs": [
    {
     "data": {
      "text/plain": [
       "0.9171252536702196"
      ]
     },
     "execution_count": 24,
     "metadata": {},
     "output_type": "execute_result"
    }
   ],
   "source": [
    "svm = SVC(gamma='auto')\n",
    "svm.fit(x, y)\n",
    "svm.score(x, y)"
   ]
  },
  {
   "cell_type": "code",
   "execution_count": 25,
   "metadata": {},
   "outputs": [],
   "source": [
    "pred = lr.predict(testX)"
   ]
  }
 ],
 "metadata": {
  "kernelspec": {
   "display_name": "Python 3",
   "language": "python",
   "name": "python3"
  },
  "language_info": {
   "codemirror_mode": {
    "name": "ipython",
    "version": 3
   },
   "file_extension": ".py",
   "mimetype": "text/x-python",
   "name": "python",
   "nbconvert_exporter": "python",
   "pygments_lexer": "ipython3",
   "version": "3.7.3"
  }
 },
 "nbformat": 4,
 "nbformat_minor": 4
}
